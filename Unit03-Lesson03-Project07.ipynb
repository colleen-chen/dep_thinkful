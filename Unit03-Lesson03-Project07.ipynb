{
 "cells": [
  {
   "cell_type": "code",
   "execution_count": 105,
   "metadata": {},
   "outputs": [],
   "source": [
    "import numpy as np\n",
    "import scipy as sp\n",
    "import pandas as pd\n",
    "from scipy.stats import ttest_ind\n",
    "from matplotlib import pyplot as plt\n",
    "%matplotlib inline"
   ]
  },
  {
   "cell_type": "code",
   "execution_count": 106,
   "metadata": {},
   "outputs": [],
   "source": [
    "pop1 = pd.DataFrame()\n",
    "pop2 = pd.DataFrame()"
   ]
  },
  {
   "cell_type": "code",
   "execution_count": 107,
   "metadata": {},
   "outputs": [],
   "source": [
    "pop1['value'] = np.random.binomial(10, 0.2, 10000)\n",
    "pop2['value'] = np.random.binomial(10, 0.5, 10000)"
   ]
  },
  {
   "cell_type": "markdown",
   "metadata": {},
   "source": [
    "# sample of size 100"
   ]
  },
  {
   "cell_type": "code",
   "execution_count": 108,
   "metadata": {},
   "outputs": [],
   "source": [
    "sample1 = np.random.choice(pop1['value'], 100, replace=True)\n",
    "sample2 = np.random.choice(pop2['value'], 100, replace=True)"
   ]
  },
  {
   "cell_type": "code",
   "execution_count": 109,
   "metadata": {},
   "outputs": [],
   "source": [
    "mean1 = np.mean(sample1)\n",
    "std1 = np.std(sample1)\n",
    "mean2 = np.mean(sample2)\n",
    "std2 = np.std(sample2)"
   ]
  },
  {
   "cell_type": "code",
   "execution_count": 110,
   "metadata": {},
   "outputs": [
    {
     "name": "stdout",
     "output_type": "stream",
     "text": [
      "2.06\n",
      "1.2870120434556935\n",
      "4.94\n",
      "1.5350570021989411\n"
     ]
    }
   ],
   "source": [
    "print(mean1)\n",
    "print(std1)\n",
    "print(mean2)\n",
    "print(std2)"
   ]
  },
  {
   "cell_type": "markdown",
   "metadata": {},
   "source": [
    "## After changing the sample size from 100 to 1000, mean will be the same\n",
    "##    standard deviation will be the same"
   ]
  },
  {
   "cell_type": "code",
   "execution_count": 111,
   "metadata": {},
   "outputs": [],
   "source": [
    "sample11 = np.random.choice(pop1['value'], 1000, replace=True)\n",
    "sample12 = np.random.choice(pop2['value'], 1000, replace=True)"
   ]
  },
  {
   "cell_type": "code",
   "execution_count": 112,
   "metadata": {},
   "outputs": [],
   "source": [
    "mean11 = np.mean(sample11)\n",
    "std11 = np.std(sample11)\n",
    "mean12 = np.mean(sample12)\n",
    "std12 = np.std(sample12)"
   ]
  },
  {
   "cell_type": "code",
   "execution_count": 113,
   "metadata": {},
   "outputs": [
    {
     "name": "stdout",
     "output_type": "stream",
     "text": [
      "1.986\n",
      "1.2449112418160582\n",
      "5.079\n",
      "1.509555894957189\n"
     ]
    }
   ],
   "source": [
    "print(mean11)\n",
    "print(std11)\n",
    "print(mean12)\n",
    "print(std12)"
   ]
  },
  {
   "cell_type": "markdown",
   "metadata": {},
   "source": [
    "## After changing the sample size to 20, mean will be the same\n",
    "##    standard deviation will be the same"
   ]
  },
  {
   "cell_type": "code",
   "execution_count": 114,
   "metadata": {},
   "outputs": [],
   "source": [
    "sample21 = np.random.choice(pop1['value'], 20, replace=True)\n",
    "sample22 = np.random.choice(pop2['value'], 20, replace=True)"
   ]
  },
  {
   "cell_type": "code",
   "execution_count": 115,
   "metadata": {},
   "outputs": [],
   "source": [
    "mean21 = np.mean(sample21)\n",
    "std21 = np.std(sample21)\n",
    "mean22 = np.mean(sample22)\n",
    "std22 = np.std(sample22)"
   ]
  },
  {
   "cell_type": "code",
   "execution_count": 116,
   "metadata": {},
   "outputs": [
    {
     "name": "stdout",
     "output_type": "stream",
     "text": [
      "2.2\n",
      "1.2884098726725124\n",
      "5.1\n",
      "1.5459624833740306\n"
     ]
    }
   ],
   "source": [
    "print(mean21)\n",
    "print(std21)\n",
    "print(mean22)\n",
    "print(std22)"
   ]
  },
  {
   "cell_type": "markdown",
   "metadata": {},
   "source": [
    "## change p to 0.3 for pop1"
   ]
  },
  {
   "cell_type": "code",
   "execution_count": 117,
   "metadata": {},
   "outputs": [],
   "source": [
    "pop3 = pd.DataFrame()\n",
    "pop3['value'] = np.random.binomial(10, 0.3, 10000)"
   ]
  },
  {
   "cell_type": "code",
   "execution_count": 118,
   "metadata": {},
   "outputs": [],
   "source": [
    "sample3 = np.random.choice(pop3['value'], 1000, replace=True)"
   ]
  },
  {
   "cell_type": "code",
   "execution_count": 119,
   "metadata": {},
   "outputs": [],
   "source": [
    "mean3 = np.mean(sample3)\n",
    "std3 = np.std(sample3)"
   ]
  },
  {
   "cell_type": "code",
   "execution_count": 120,
   "metadata": {},
   "outputs": [],
   "source": [
    "Se = (std2**2 / 1000 + std3**2 / 1000)**0.5\n",
    "tvalue = (mean2 - mean3) / Se"
   ]
  },
  {
   "cell_type": "code",
   "execution_count": 121,
   "metadata": {},
   "outputs": [
    {
     "name": "stdout",
     "output_type": "stream",
     "text": [
      "29.331779591852513\n"
     ]
    }
   ],
   "source": [
    "print(tvalue)"
   ]
  },
  {
   "cell_type": "code",
   "execution_count": 122,
   "metadata": {},
   "outputs": [
    {
     "name": "stdout",
     "output_type": "stream",
     "text": [
      "Ttest_indResult(statistic=12.390530704396598, pvalue=3.751538120815494e-23)\n"
     ]
    }
   ],
   "source": [
    "print(ttest_ind(sample2, sample3, equal_var=False))"
   ]
  },
  {
   "cell_type": "markdown",
   "metadata": {},
   "source": [
    "## change p to 0.4 for pop1"
   ]
  },
  {
   "cell_type": "code",
   "execution_count": 123,
   "metadata": {},
   "outputs": [],
   "source": [
    "pop4 = pd.DataFrame()\n",
    "pop4['value'] = np.random.binomial(10, 0.4, 10000)"
   ]
  },
  {
   "cell_type": "code",
   "execution_count": 124,
   "metadata": {},
   "outputs": [],
   "source": [
    "sample4 = np.random.choice(pop4['value'], 1000)"
   ]
  },
  {
   "cell_type": "code",
   "execution_count": 125,
   "metadata": {},
   "outputs": [],
   "source": [
    "mean4 = np.mean(sample4)\n",
    "std4 = np.std(sample4)"
   ]
  },
  {
   "cell_type": "code",
   "execution_count": 126,
   "metadata": {},
   "outputs": [],
   "source": [
    "Se4 = (std2**2 / 1000 + std4**2 / 1000)**0.5\n",
    "tvalue4 = (mean2 - mean4) / Se"
   ]
  },
  {
   "cell_type": "code",
   "execution_count": 127,
   "metadata": {},
   "outputs": [
    {
     "name": "stdout",
     "output_type": "stream",
     "text": [
      "Ttest_indResult(statistic=5.369800790266856, pvalue=3.9020977998438425e-07)\n"
     ]
    }
   ],
   "source": [
    "print(ttest_ind(sample2, sample4, equal_var=False))"
   ]
  },
  {
   "cell_type": "markdown",
   "metadata": {},
   "source": [
    "## The p-value gets much larger because the likelihood of the sample of p=0.4\n",
    "##    the same as the sample of p=0.5 is more than the sample of p=0.3 the same as\n",
    "##    sample p=0.5"
   ]
  },
  {
   "cell_type": "code",
   "execution_count": null,
   "metadata": {},
   "outputs": [],
   "source": []
  }
 ],
 "metadata": {
  "kernelspec": {
   "display_name": "Python 3",
   "language": "python",
   "name": "python3"
  },
  "language_info": {
   "codemirror_mode": {
    "name": "ipython",
    "version": 3
   },
   "file_extension": ".py",
   "mimetype": "text/x-python",
   "name": "python",
   "nbconvert_exporter": "python",
   "pygments_lexer": "ipython3",
   "version": "3.6.7"
  }
 },
 "nbformat": 4,
 "nbformat_minor": 2
}
