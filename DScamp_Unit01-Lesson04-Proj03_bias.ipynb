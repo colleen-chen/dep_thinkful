{
 "cells": [
  {
   "cell_type": "markdown",
   "metadata": {},
   "source": [
    "# Bias and A/A testing\n",
    "\n",
    "You're testing advertising emails for a bathing suit company and you test one version of \n",
    "the email in February and the other in May.\n",
    "\n",
    "You open a clinic to treat anxiety and find that the people who visit show a higher rate \n",
    "of anxiety than the general population.\n",
    "\n",
    "You launch a new ad billboard based campaign and see an increase in website visits \n",
    "in the first week.\n",
    "\n",
    "You launch a loyalty program but see no change in visits in the first week.\n",
    "\n",
    "\n",
    "\n",
    "\n"
   ]
  },
  {
   "cell_type": "markdown",
   "metadata": {},
   "source": [
    "Question 1:     You're testing advertising emails for a bathing suit company and you test \n",
    "                one version of the email in February and the other in May.\n",
    "                \n",
    "Answer 1:       i) make sure that the email lists are the same\n",
    "\n",
    "                ii) make sure that email messages are the same. if not, the results have to be adjusted.\n",
    "\n",
    "                iii) People are more likely to buy swimsuit in May than in February.\n",
    "                     If the goal is to test different email messages, the two set emails should be sent out\n",
    "                     in the same month\n",
    "                \n",
    "                \n",
    "                There are biases in condition.\n",
    "                "
   ]
  },
  {
   "cell_type": "markdown",
   "metadata": {},
   "source": [
    " Question 2:     \n",
    "                 You open a clinic to treat anxiety and find that the people who visit show \n",
    "                a higher rate of anxiety than the general population.\n",
    "                \n",
    " Answer 2:      \n",
    "                 Because people with anxiety more likely to visit the clinic than general population.\n",
    "                 \n",
    "                 There is bias in selecting samples.\n",
    "                 \n",
    "                 \n",
    "                 \n",
    " >>>                \n",
    "                 \n",
    "                "
   ]
  },
  {
   "cell_type": "markdown",
   "metadata": {},
   "source": [
    "Question 3:     \n",
    "                You launch a new ad billboard based campaign and see an increase in website \n",
    "                visits in the first week.\n",
    "                \n",
    "Answer 3:       billboard campaign raises the awareness. So more people visit website.\n",
    "                Average over all geographic regions, more people visit website. If looking at\n",
    "                website visits each region, it may be the same visits to website for regions far away\n",
    "                from billboard. More visits occur at the region where billboard locates.\n",
    "                \n",
    "                \n",
    "                \n",
    "                \n",
    ">>>\n",
    "                "
   ]
  },
  {
   "cell_type": "markdown",
   "metadata": {},
   "source": [
    "Question 4:     \n",
    "            You launch a loyalty program but see no change in visits in the first week.\n",
    "\n",
    "Answer 4:\n",
    "            Do you try to break up data into subgroups? Do visits change individually?\n",
    "            \n",
    "            \n",
    "            \n",
    "            \n",
    ">>>"
   ]
  },
  {
   "cell_type": "markdown",
   "metadata": {},
   "source": []
  }
 ],
 "metadata": {
  "kernelspec": {
   "display_name": "Python 3",
   "language": "python",
   "name": "python3"
  },
  "language_info": {
   "codemirror_mode": {
    "name": "ipython",
    "version": 3
   },
   "file_extension": ".py",
   "mimetype": "text/x-python",
   "name": "python",
   "nbconvert_exporter": "python",
   "pygments_lexer": "ipython3",
   "version": "3.6.7"
  }
 },
 "nbformat": 4,
 "nbformat_minor": 2
}
