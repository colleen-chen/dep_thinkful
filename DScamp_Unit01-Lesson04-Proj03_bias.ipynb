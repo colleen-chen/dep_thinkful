{
 "cells": [
  {
   "cell_type": "markdown",
   "metadata": {},
   "source": [
    "# Bias and A/A testing\n",
    "\n",
    "You're testing advertising emails for a bathing suit company and you test one version of \n",
    "the email in February and the other in May.\n",
    "\n",
    "You open a clinic to treat anxiety and find that the people who visit show a higher rate \n",
    "of anxiety than the general population.\n",
    "\n",
    "You launch a new ad billboard based campaign and see an increase in website visits \n",
    "in the first week.\n",
    "\n",
    "You launch a loyalty program but see no change in visits in the first week.\n",
    "\n"
   ]
  },
  {
   "cell_type": "markdown",
   "metadata": {},
   "source": [
    "Question 1:     You're testing advertising emails for a bathing suit company and you test \n",
    "                one version of the email in February and the other in May.\n",
    "                \n",
    "                \n",
    "                \n",
    "                \n",
    "                "
   ]
  },
  {
   "cell_type": "markdown",
   "metadata": {},
   "source": [
    "Question 2:     You open a clinic to treat anxiety and find that the people who visit show \n",
    "                a higher rate of anxiety than the general population.\n",
    "\n",
    "\n",
    "\n",
    "\n"
   ]
  },
  {
   "cell_type": "markdown",
   "metadata": {},
   "source": [
    "Question 3:     You launch a new ad billboard based campaign and see an increase in website \n",
    "                visits in the first week.\n",
    "                \n",
    "                \n",
    "                \n",
    "                \n",
    "                \n",
    "                "
   ]
  },
  {
   "cell_type": "markdown",
   "metadata": {},
   "source": [
    "Question 4:     You launch a loyalty program but see no change in visits in the first week.\n",
    "\n",
    "\n",
    "\n",
    "\n",
    "\n",
    "\n",
    "\n"
   ]
  },
  {
   "cell_type": "markdown",
   "metadata": {},
   "source": []
  }
 ],
 "metadata": {
  "kernelspec": {
   "display_name": "Python 3",
   "language": "python",
   "name": "python3"
  },
  "language_info": {
   "codemirror_mode": {
    "name": "ipython",
    "version": 3
   },
   "file_extension": ".py",
   "mimetype": "text/x-python",
   "name": "python",
   "nbconvert_exporter": "python",
   "pygments_lexer": "ipython3",
   "version": "3.6.7"
  }
 },
 "nbformat": 4,
 "nbformat_minor": 2
}
