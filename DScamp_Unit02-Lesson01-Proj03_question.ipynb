{
 "cells": [
  {
   "cell_type": "markdown",
   "metadata": {},
   "source": [
    "##    1. What is the 1994 rate of juvenile delinquency in the U.S.?\n",
    "\n",
    "    good research question. Juvenile delinquency is a continous variable, easy to measure, a lot of data\n",
    "    available.\n",
    "\n"
   ]
  },
  {
   "cell_type": "markdown",
   "metadata": {},
   "source": [
    "##    2. What can we do to reduce juvenile delinquency in the U.S.?\n",
    "\n",
    "    several things to do:   1) provide trainings to reunite into society, including job skill training\n",
    "                            2) more support from family.\n",
    "                            3) education\n",
    "\n"
   ]
  },
  {
   "cell_type": "markdown",
   "metadata": {},
   "source": [
    "##    3. Does education play a role in reducing juvenile delinquents' return to crime?\n",
    "\n",
    "    yes. Education may raise their self-esteem.\n",
    "\n",
    "    \n",
    "\n"
   ]
  },
  {
   "cell_type": "markdown",
   "metadata": {},
   "source": [
    "##    4. How many customers does AT&T currently serve in Washington, DC?\n",
    "\n",
    "    It is good question. It is continous variable, easy to measure, with a lot of available data\n",
    "    over many years.\n",
    "\n"
   ]
  },
  {
   "cell_type": "markdown",
   "metadata": {},
   "source": [
    "##    5. What factors lead consumers to choose AT&T over other service providers?\n",
    "\n",
    "    a) The qualities of service\n",
    "    b) The wider cell tower coverages\n",
    "    c) The price\n",
    "    d) special bundling packages\n"
   ]
  },
  {
   "cell_type": "markdown",
   "metadata": {},
   "source": [
    "##    6. How can AT&T attract more customers?\n",
    "\n",
    "    a) maintain its high quality\n",
    "    b) provide discount with bundling packages\n",
    "\n"
   ]
  },
  {
   "cell_type": "markdown",
   "metadata": {},
   "source": [
    "##    7. Why did the Challenger Shuttle explode?\n",
    "\n",
    "    bad question.\n",
    "    The good alternate is \n",
    "        WHat are probabilities of shuttle explosion with various causes?\n",
    "        \n",
    "        "
   ]
  },
  {
   "cell_type": "markdown",
   "metadata": {},
   "source": [
    "##    8. Which genes are associated with increased risk of breast cancer?\n",
    "\n",
    "    bad question.\n",
    "    The good alternate question is what are most common genes are found associated with breast cancer.\n"
   ]
  },
  {
   "cell_type": "markdown",
   "metadata": {},
   "source": [
    "##    9. Is it better to read to children at night or in the morning?\n",
    "\n",
    "    bad question.\n",
    "    \n",
    "    Pick some measurable variables asociated with children which improve if reading at night or in the morning.\n",
    "    Like better sleep, longer sleep, kids' cognitive abilities.\n",
    "\n",
    "\n",
    "\n",
    "\n"
   ]
  },
  {
   "cell_type": "markdown",
   "metadata": {},
   "source": [
    "##    10. How does Google’s search algorithm work?\n",
    "\n",
    "\n",
    "    bad question.\n",
    "    \n",
    "    pick measurable variables to describe Google's search algorithm.\n",
    "    \n",
    "    \n",
    "    \n",
    "    "
   ]
  }
 ],
 "metadata": {
  "kernelspec": {
   "display_name": "Python 3",
   "language": "python",
   "name": "python3"
  },
  "language_info": {
   "codemirror_mode": {
    "name": "ipython",
    "version": 3
   },
   "file_extension": ".py",
   "mimetype": "text/x-python",
   "name": "python",
   "nbconvert_exporter": "python",
   "pygments_lexer": "ipython3",
   "version": "3.6.7"
  }
 },
 "nbformat": 4,
 "nbformat_minor": 2
}
