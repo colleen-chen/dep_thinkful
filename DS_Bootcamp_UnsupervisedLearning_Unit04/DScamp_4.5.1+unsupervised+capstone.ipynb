{
 "cells": [
  {
   "cell_type": "markdown",
   "metadata": {},
   "source": [
    "## Unsupervised Learning Capstone\n",
    ">"
   ]
  },
  {
   "cell_type": "code",
   "execution_count": 46,
   "metadata": {},
   "outputs": [],
   "source": [
    "import numpy as np\n",
    "import pandas as pd\n",
    "import scipy\n",
    "import math\n",
    "import seaborn as sns\n",
    "from matplotlib import pyplot as plt\n",
    "%matplotlib inline\n",
    "\n",
    "from datetime import datetime as dt\n",
    "from collections import Counter\n",
    "import re\n",
    "import spacy\n",
    "import nltk\n",
    "from nltk.corpus import gutenberg, stopwords\n",
    "from nltk.corpus import brown, crubadan, timit\n",
    "\n",
    "import sklearn\n",
    "from sklearn import ensemble\n",
    "from sklearn.linear_model import LogisticRegression\n",
    "\n",
    "from sklearn.model_selection import train_test_split\n",
    "from sklearn.model_selection import cross_val_score\n",
    "from sklearn.metrics import confusion_matrix\n",
    "\n",
    "# clustering models\n",
    "from sklearn.cluster import KMeans\n",
    "from sklearn.preprocessing import normalize\n",
    "from sklearn.decomposition import PCA\n",
    "from sklearn.cluster import MiniBatchKMeans\n",
    "\n",
    "from sklearn.cluster import MeanShift, estimate_bandwidth\n",
    "from sklearn.cluster import SpectralClustering"
   ]
  },
  {
   "cell_type": "code",
   "execution_count": 26,
   "metadata": {},
   "outputs": [],
   "source": [
    "# utility function\n",
    "def text_cleaner(x):\n",
    "    \"\"\"Purpose:   Removing certain chars by using regular expressions\n",
    "       Input:   a string\n",
    "       Output:   cleaned string without special chars.\"\"\"\n",
    "    x = re.sub(r'--', ' ', x)\n",
    "    x = re.sub(r'\\*+', ' ', x)\n",
    "    x = re.sub(\"[\\[].*?[\\]]\", \"\", x)\n",
    "    x = ' '.join(x.split())\n",
    "    return x"
   ]
  },
  {
   "cell_type": "code",
   "execution_count": 27,
   "metadata": {},
   "outputs": [],
   "source": [
    "def record_start_time(t = dt.now):\n",
    "    \"\"\"Purpose:   A system timer for start time\n",
    "       Input:     the time\n",
    "       Output:    print out the time.\"\"\"\n",
    "    print('start time {}'.format(t))\n",
    "    return t"
   ]
  },
  {
   "cell_type": "code",
   "execution_count": 28,
   "metadata": {},
   "outputs": [],
   "source": [
    "def record_end_time(starttime, t = dt.now):\n",
    "    \"\"\"Purpose:   A system timer for end time\n",
    "       Input:   the time\n",
    "       Output:  print out the time and the time passed.\"\"\"\n",
    "    print('end time {}'.format(t))\n",
    "    print('Total time passed is {}'.format(t - starttime))\n",
    "    return t"
   ]
  },
  {
   "cell_type": "code",
   "execution_count": 29,
   "metadata": {},
   "outputs": [],
   "source": [
    "def word_frequencies(x, include_stop=True):\n",
    "    \"\"\"Generate word counts for a string.\"\"\"\n",
    "    words = []\n",
    "    for token in x:\n",
    "        if not token.is_punct and (not token.is_stop or include_stop):\n",
    "            words.append(token.text)\n",
    "            \n",
    "    return Counter(words)"
   ]
  },
  {
   "cell_type": "code",
   "execution_count": 30,
   "metadata": {},
   "outputs": [],
   "source": [
    "def lemma_frequencies(text, include_stop=True):\n",
    "    \"\"\"Generate word lemma counts for a string\"\"\"\n",
    "    lemmas = []\n",
    "    for token in text:\n",
    "        if not token.is_punct and (not token.is_stop or include_stop):\n",
    "            lemmas.append(token.lemma_)\n",
    "    \n",
    "    return Counter(lemmas)"
   ]
  },
  {
   "cell_type": "code",
   "execution_count": 31,
   "metadata": {},
   "outputs": [],
   "source": [
    "def bag_of_words(text, nsize, include_stop):\n",
    "    \"\"\"Generate list of words contained in a string.\"\"\"\n",
    "    container = lemma_frequencies(text, include_stop).most_common(nsize)\n",
    "    return [item[0] for item in container]  "
   ]
  },
  {
   "cell_type": "code",
   "execution_count": 32,
   "metadata": {},
   "outputs": [],
   "source": [
    "def bow_of_features(sentences, common_words, type_words):\n",
    "    df = pd.DataFrame(columns=(['count'] + common_words + type_words))\n",
    "    df['text_sentence'] = sentences[0]\n",
    "    df['text_source'] = sentences[1]\n",
    "    df.loc[:, 'count'] = 0\n",
    "    df.loc[:, common_words] = 0\n",
    "    df.loc[:, type_words] = 0\n",
    "    \n",
    "    for i, sentence in enumerate(df['text_sentence']):\n",
    "        df.loc[i, 'count'] = len(sentence)\n",
    "        \n",
    "        words = [token.lemma_\n",
    "                 for token in sentence\n",
    "                 if (\n",
    "                     not token.is_punct\n",
    "                     and not token.is_stop\n",
    "                     and token.lemma_ in common_words\n",
    "                 )]\n",
    "    \n",
    "        for word in words:\n",
    "            df.loc[i, word] += 1\n",
    "        \n",
    "        # type\n",
    "        types = []\n",
    "        for token in sentence:\n",
    "            token_doc = nlp(token.text)\n",
    "            for a_token in token_doc:\n",
    "                holder = a_token.pos_\n",
    "                if holder in type_words:\n",
    "                    types.append(holder)\n",
    "    \n",
    "        for type in types:\n",
    "            df.loc[i, type] += 1\n",
    "        \n",
    "        if i % 1000 == 0:\n",
    "            print('Processing row {}'.format(i))\n",
    "    \n",
    "    print('All Done')\n",
    "    return df"
   ]
  },
  {
   "cell_type": "code",
   "execution_count": 33,
   "metadata": {},
   "outputs": [],
   "source": [
    "def stat_words_per_sentence(sentences, df):\n",
    "    words = []\n",
    "    for ss in sentences[0]:\n",
    "        words.append(len(ss)) \n",
    "        \n",
    "    df_local = pd.DataFrame(words, columns=['entity'])\n",
    "    df['count'] = df_local.describe().loc['count', 'entity']\n",
    "#    df['25perc'] = df_local.describe().loc['25%', 'entity']\n",
    "#    df['50perc'] = df_local.describe().loc['50%', 'entity']\n",
    "#    df['75perc'] = df_local.describe().loc['75%', 'entity']\n",
    "    df['max'] = df_local.describe().loc['max', 'entity']"
   ]
  },
  {
   "cell_type": "code",
   "execution_count": 34,
   "metadata": {},
   "outputs": [
    {
     "name": "stdout",
     "output_type": "stream",
     "text": [
      "['austen-emma.txt', 'austen-persuasion.txt', 'austen-sense.txt', 'bible-kjv.txt', 'blake-poems.txt', 'bryant-stories.txt', 'burgess-busterbrown.txt', 'carroll-alice.txt', 'chesterton-ball.txt', 'chesterton-brown.txt', 'chesterton-thursday.txt', 'edgeworth-parents.txt', 'melville-moby_dick.txt', 'milton-paradise.txt', 'shakespeare-caesar.txt', 'shakespeare-hamlet.txt', 'shakespeare-macbeth.txt', 'whitman-leaves.txt']\n",
      "DONE\n"
     ]
    }
   ],
   "source": [
    "#print(brown.fileids())\n",
    "print(gutenberg.fileids())\n",
    "\n",
    "austen1 = gutenberg.raw('austen-' + 'emma' + '.txt')\n",
    "austen2 = gutenberg.raw('austen-' + 'persuasion' + '.txt')\n",
    "bryant = gutenberg.raw('bryant-' + 'stories' + '.txt')\n",
    "burgess = gutenberg.raw('burgess-busterbrown' + '.txt')\n",
    "carroll = gutenberg.raw('carroll-alice' + '.txt')\n",
    "chesterton = gutenberg.raw('chesterton-brown' + '.txt')\n",
    "edgeworth = gutenberg.raw('edgeworth-parents' + '.txt')\n",
    "melville = gutenberg.raw('melville-moby_dick' + '.txt')\n",
    "milton = gutenberg.raw('milton-paradise' + '.txt')\n",
    "shakespeare = gutenberg.raw('shakespeare-caesar' + '.txt')\n",
    "whitman = gutenberg.raw('whitman-leaves' + '.txt')\n",
    "\n",
    "print('DONE')"
   ]
  },
  {
   "cell_type": "code",
   "execution_count": 35,
   "metadata": {},
   "outputs": [],
   "source": [
    "# cleanup dataset\n",
    "# remove VOLUME, CHAPTER\n",
    "austen1 = re.sub(r'CHAPTER [I]*[V]*[X]*', '', austen1)\n",
    "austen1 = re.sub(r'VOLUME [I]*[V]*[X]*', '', austen1)\n",
    "austen1 = text_cleaner(austen1)\n",
    "                 \n",
    "austen2 = re.sub(r'Chapter \\d+', '', austen2)\n",
    "austen2 = text_cleaner(austen2)\n",
    "                 \n",
    "bryant = text_cleaner(bryant)\n",
    "                 \n",
    "burgess = re.sub(r'[I]*[V]*[X]*\\n', '', burgess)\n",
    "burgess = text_cleaner(burgess)\n",
    "\n",
    "#carroll = re.sub[r'CHAPTER [A-Z]*.', '', carroll]\n",
    "carroll = text_cleaner(carroll)                \n",
    "                 \n",
    "chesterton = text_cleaner(chesterton)\n",
    "\n",
    "edgeworth = text_cleaner(edgeworth)\n",
    "                 \n",
    "milton = text_cleaner(milton)\n",
    "\n",
    "shakespeare = text_cleaner(shakespeare)\n",
    "\n",
    "whitman = text_cleaner(whitman)\n",
    "\n",
    "# only use 1/10\n",
    "austen1 = austen1[:int(len(austen1)/10)]\n",
    "austen2 = austen2[:int(len(austen2)/5)]\n",
    "chesterton = chesterton[:int(len(chesterton)/5)]\n",
    "edgeworth = edgeworth[:int(len(edgeworth)/10)]\n",
    "milton = milton[:int(len(milton)/5)]\n",
    "whitman = whitman[:int(len(whitman)/10)]"
   ]
  },
  {
   "cell_type": "code",
   "execution_count": 36,
   "metadata": {},
   "outputs": [
    {
     "name": "stdout",
     "output_type": "stream",
     "text": [
      "finish austen1\n",
      "finish austen2\n",
      "finish bryant\n",
      "finish byrgess\n",
      "finish carroll\n",
      "finish chesterton\n",
      "finish edgeworth\n",
      "finish milton\n",
      "finish shakespeare\n",
      "finish whitman\n",
      "DONE\n"
     ]
    }
   ],
   "source": [
    "# feature engineer\n",
    "nlp = spacy.load('en_core_web_sm')\n",
    "austen1_doc = nlp(austen1)\n",
    "print('finish austen1')\n",
    "austen2_doc = nlp(austen2)\n",
    "print('finish austen2')\n",
    "bryant_doc = nlp(bryant)\n",
    "print('finish bryant')\n",
    "burgess_doc = nlp(burgess)\n",
    "print('finish byrgess')\n",
    "carroll_doc = nlp(carroll)\n",
    "print('finish carroll')\n",
    "chesterton_doc = nlp(chesterton)\n",
    "print('finish chesterton')\n",
    "edgeworth_doc = nlp(edgeworth)\n",
    "print('finish edgeworth')\n",
    "milton_doc = nlp(milton)\n",
    "print('finish milton')\n",
    "shakespeare_doc = nlp(shakespeare)\n",
    "print('finish shakespeare')\n",
    "whitman_doc = nlp(whitman)\n",
    "print('finish whitman')\n",
    "print('DONE')"
   ]
  },
  {
   "cell_type": "code",
   "execution_count": 37,
   "metadata": {},
   "outputs": [
    {
     "data": {
      "text/html": [
       "<div>\n",
       "<style scoped>\n",
       "    .dataframe tbody tr th:only-of-type {\n",
       "        vertical-align: middle;\n",
       "    }\n",
       "\n",
       "    .dataframe tbody tr th {\n",
       "        vertical-align: top;\n",
       "    }\n",
       "\n",
       "    .dataframe thead th {\n",
       "        text-align: right;\n",
       "    }\n",
       "</style>\n",
       "<table border=\"1\" class=\"dataframe\">\n",
       "  <thead>\n",
       "    <tr style=\"text-align: right;\">\n",
       "      <th></th>\n",
       "      <th>0</th>\n",
       "      <th>1</th>\n",
       "    </tr>\n",
       "  </thead>\n",
       "  <tbody>\n",
       "    <tr>\n",
       "      <th>0</th>\n",
       "      <td>(Emma, Woodhouse, ,, handsome, ,, clever, ,, a...</td>\n",
       "      <td>0</td>\n",
       "    </tr>\n",
       "    <tr>\n",
       "      <th>1</th>\n",
       "      <td>(She, was, the, youngest, of, the, two, daught...</td>\n",
       "      <td>0</td>\n",
       "    </tr>\n",
       "    <tr>\n",
       "      <th>2</th>\n",
       "      <td>(Her, mother, had, died, too, long, ago, for, ...</td>\n",
       "      <td>0</td>\n",
       "    </tr>\n",
       "    <tr>\n",
       "      <th>3</th>\n",
       "      <td>(Sixteen, years, had, Miss, Taylor, been, in, ...</td>\n",
       "      <td>0</td>\n",
       "    </tr>\n",
       "    <tr>\n",
       "      <th>4</th>\n",
       "      <td>(Between, _, them)</td>\n",
       "      <td>0</td>\n",
       "    </tr>\n",
       "  </tbody>\n",
       "</table>\n",
       "</div>"
      ],
      "text/plain": [
       "                                                   0  1\n",
       "0  (Emma, Woodhouse, ,, handsome, ,, clever, ,, a...  0\n",
       "1  (She, was, the, youngest, of, the, two, daught...  0\n",
       "2  (Her, mother, had, died, too, long, ago, for, ...  0\n",
       "3  (Sixteen, years, had, Miss, Taylor, been, in, ...  0\n",
       "4                                 (Between, _, them)  0"
      ]
     },
     "execution_count": 37,
     "metadata": {},
     "output_type": "execute_result"
    }
   ],
   "source": [
    "# group into sentences\n",
    "austen1_sents = [[sent, 0] for sent in austen1_doc.sents]                       # austen1 ---  0\n",
    "austen2_sents = [[sent, 1] for sent in austen2_doc.sents]                       # austen2 ---  1\n",
    "bryant_sents = [[sent, 2] for sent in bryant_doc.sents]                         # bryant  ---  2\n",
    "burgess_sents = [[sent, 3] for sent in burgess_doc.sents]                       # burgess ---  3\n",
    "carroll_sents = [[sent, 4] for sent in carroll_doc.sents]                       # carroll ---  4\n",
    "chesterton_sents = [[sent, 5] for sent in chesterton_doc.sents]                 # chesterton ---  5\n",
    "edgeworth_sents = [[sent, 6] for sent in edgeworth_doc.sents]                   # edgeworth ---6\n",
    "milton_sents = [[sent, 7] for sent in milton_doc.sents]                         # milton  ---  7    \n",
    "shakespeare_sents = [[sent, 8] for sent in shakespeare_doc.sents]               # shakespeare --- 8\n",
    "whitman_sents = [[sent, 9] for sent in whitman_doc.sents]                       # whitman ---  9\n",
    "\n",
    "sentences = pd.DataFrame(austen1_sents +\n",
    "                         austen2_sents +\n",
    "                         bryant_sents +\n",
    "                         burgess_sents +\n",
    "                         carroll_sents +\n",
    "                         chesterton_sents +\n",
    "                         edgeworth_sents +\n",
    "                         milton_sents +\n",
    "                         shakespeare_sents +\n",
    "                         whitman_sents)\n",
    "sentences.head()"
   ]
  },
  {
   "cell_type": "code",
   "execution_count": 38,
   "metadata": {},
   "outputs": [],
   "source": [
    "# constructing bag_of_words\n",
    "austen1_common = bag_of_words(austen1_doc, 20, False)        \n",
    "austen2_common = bag_of_words(austen2_doc, 20, False)\n",
    "bryant_common = bag_of_words(bryant_doc, 20, False)\n",
    "burgess_common = bag_of_words(burgess_doc, 20, False)\n",
    "carroll_common = bag_of_words(carroll_doc, 20, False)\n",
    "chesterton_common = bag_of_words(chesterton_doc, 20, False)\n",
    "edgeworth_common = bag_of_words(edgeworth_doc, 20, False)\n",
    "milton_common = bag_of_words(milton_doc, 20, False)\n",
    "shakespeare_common = bag_of_words(shakespeare_doc, 20, False)\n",
    "whitman_common = bag_of_words(whitman_doc, 20, False)\n",
    "\n",
    "# common and unique words\n",
    "words_common = [x for x in (set(austen1_common) - set(austen2_common) - set(bryant_common) - set(burgess_common) -\n",
    "                            set(carroll_common) - set(chesterton_common) - set(edgeworth_common) - set(milton_common) -\n",
    "                            set(shakespeare_common) - set(whitman_common))]\n",
    "\n",
    "for y in (set(austen2_common) - set(austen1_common) - set(bryant_common) - set(burgess_common) - set(carroll_common) - \n",
    "          set(chesterton_common) - set(edgeworth_common) - set(milton_common) - set(shakespeare_common) - set(whitman_common)):\n",
    "    words_common.append(y)\n",
    "    \n",
    "for y in (set(bryant_common) - set(austen1_common) - set(austen2_common) - set(burgess_common) - set(carroll_common) - \n",
    "          set(chesterton_common) - set(edgeworth_common) - set(milton_common) - set(shakespeare_common) - set(whitman_common)):\n",
    "    words_common.append(y)\n",
    "    \n",
    "for y in (set(burgess_common) - set(austen1_common) - set(bryant_common) - set(austen2_common) - set(carroll_common) - \n",
    "          set(chesterton_common) - set(edgeworth_common) - set(milton_common) - set(shakespeare_common) - set(whitman_common)):\n",
    "    words_common.append(y)\n",
    "    \n",
    "for y in (set(carroll_common) - set(austen1_common) - set(bryant_common) - set(burgess_common) - set(austen2_common) - \n",
    "          set(chesterton_common) - set(edgeworth_common) - set(milton_common) - set(shakespeare_common) - set(whitman_common)):\n",
    "    words_common.append(y)\n",
    "    \n",
    "for y in (set(chesterton_common) - set(austen1_common) - set(bryant_common) - set(burgess_common) - set(carroll_common) - \n",
    "          set(austen2_common) - set(edgeworth_common) - set(milton_common) - set(shakespeare_common) - set(whitman_common)):\n",
    "    words_common.append(y)\n",
    "    \n",
    "for y in (set(edgeworth_common) - set(austen1_common) - set(bryant_common) - set(burgess_common) - set(carroll_common) - \n",
    "          set(chesterton_common) - set(austen2_common) - set(milton_common) - set(shakespeare_common) - set(whitman_common)):\n",
    "    words_common.append(y)\n",
    "    \n",
    "for y in (set(milton_common) - set(austen1_common) - set(bryant_common) - set(burgess_common) - set(carroll_common) - \n",
    "          set(chesterton_common) - set(edgeworth_common) - set(austen2_common) - set(shakespeare_common) - set(whitman_common)):\n",
    "    words_common.append(y)\n",
    "    \n",
    "for y in (set(shakespeare_common) - set(austen1_common) - set(bryant_common) - set(burgess_common) - set(carroll_common) - \n",
    "          set(chesterton_common) - set(edgeworth_common) - set(milton_common) - set(austen2_common) - set(whitman_common)):\n",
    "    words_common.append(y)\n",
    "    \n",
    "for y in (set(whitman_common) - set(austen1_common) - set(bryant_common) - set(burgess_common) - set(carroll_common) - \n",
    "          set(chesterton_common) - set(edgeworth_common) - set(milton_common) - set(shakespeare_common) - set(austen2_common)):\n",
    "    words_common.append(y)\n"
   ]
  },
  {
   "cell_type": "code",
   "execution_count": 39,
   "metadata": {},
   "outputs": [
    {
     "name": "stdout",
     "output_type": "stream",
     "text": [
      "Processing row 0\n",
      "Processing row 1000\n",
      "Processing row 2000\n",
      "Processing row 3000\n",
      "Processing row 4000\n",
      "Processing row 5000\n",
      "Processing row 6000\n",
      "Processing row 7000\n",
      "Processing row 8000\n",
      "Processing row 9000\n",
      "Processing row 10000\n",
      "Processing row 11000\n",
      "All Done\n"
     ]
    }
   ],
   "source": [
    "# constructing Dataset\n",
    "type_words = ['PROPN', 'ADJ', 'ADV', 'CCONJ', 'NOUN', 'VERB', 'DET', 'PUNCT', 'ADP']\n",
    "features = bow_of_features(sentences, words_common, type_words)\n",
    "# add words per sentence statistics\n",
    "#stat_words_per_sentence(sentences, features)"
   ]
  },
  {
   "cell_type": "code",
   "execution_count": null,
   "metadata": {},
   "outputs": [],
   "source": []
  },
  {
   "cell_type": "markdown",
   "metadata": {},
   "source": [
    "## Now start with clustering model"
   ]
  },
  {
   "cell_type": "code",
   "execution_count": 40,
   "metadata": {},
   "outputs": [],
   "source": [
    "# start clustering models\n",
    "Y = features['text_source']\n",
    "X = features.drop(['text_source', 'text_sentence'], 1)\n",
    "\n",
    "X_train, X_test, Y_train, Y_test = train_test_split(\n",
    "    X, Y, test_size=0.75, random_state=42)"
   ]
  },
  {
   "cell_type": "code",
   "execution_count": 41,
   "metadata": {},
   "outputs": [
    {
     "name": "stdout",
     "output_type": "stream",
     "text": [
      "Comparing k-means and mini batch k-means solutions: \n",
      "text_source    0    1    2    3    4    5    6    7    8    9\n",
      "row_0                                                        \n",
      "0             94   99  628  115  168  199  135   66  199  152\n",
      "1             47   27  139   78  147   30   37   16  163   25\n",
      "2             28   15  134   41  145   17   57    2   55   10\n",
      "3             85   29  475   70  535  134  135   25  178   33\n",
      "4              9    4   43   10   17    6    6   10  195   31\n",
      "5             99   43  250  119   68   97   35  109  229   53\n",
      "6             99   54  214  132  146   55   67   25  138   42\n",
      "7              6    5   18    8   18    5    4    0  305    6\n",
      "8            293  236  656  366  378  157  266   72  239  113\n",
      "9             65   47  208   62   56   53   38  263  443  148\n"
     ]
    },
    {
     "data": {
      "image/png": "[encoded data removed]",
      "text/plain": [
       "<Figure size 432x288 with 1 Axes>"
      ]
     },
     "metadata": {
      "needs_background": "light"
     },
     "output_type": "display_data"
    }
   ],
   "source": [
    "# KMeans cluster model\n",
    "X_norm = normalize(X)\n",
    "X_pca = PCA(10).fit_transform(X_norm)\n",
    "Y_pred = KMeans(n_clusters=10, random_state=42).fit_predict(X_pca)\n",
    "\n",
    "plt.scatter(X_pca[:,0], X_pca[:,1], c=Y_pred)\n",
    "\n",
    "# Check the prediction against the data\n",
    "print('Comparing k-means and mini batch k-means solutions: ')\n",
    "print(pd.crosstab(Y_pred, Y))"
   ]
  },
  {
   "cell_type": "code",
   "execution_count": 47,
   "metadata": {},
   "outputs": [
    {
     "data": {
      "text/plain": [
       "array([[ 94,  47,  28,  85,   9,  99,  99,   6, 293,  65],\n",
       "       [ 99,  27,  15,  29,   4,  43,  54,   5, 236,  47],\n",
       "       [628, 139, 134, 475,  43, 250, 214,  18, 656, 208],\n",
       "       [115,  78,  41,  70,  10, 119, 132,   8, 366,  62],\n",
       "       [168, 147, 145, 535,  17,  68, 146,  18, 378,  56],\n",
       "       [199,  30,  17, 134,   6,  97,  55,   5, 157,  53],\n",
       "       [135,  37,  57, 135,   6,  35,  67,   4, 266,  38],\n",
       "       [ 66,  16,   2,  25,  10, 109,  25,   0,  72, 263],\n",
       "       [199, 163,  55, 178, 195, 229, 138, 305, 239, 443],\n",
       "       [152,  25,  10,  33,  31,  53,  42,   6, 113, 148]], dtype=int64)"
      ]
     },
     "execution_count": 47,
     "metadata": {},
     "output_type": "execute_result"
    }
   ],
   "source": [
    "confusion_matrix(Y, Y_pred)"
   ]
  },
  {
   "cell_type": "code",
   "execution_count": null,
   "metadata": {},
   "outputs": [],
   "source": []
  },
  {
   "cell_type": "markdown",
   "metadata": {},
   "source": [
    "## Looks like the KMeans model don't do very well"
   ]
  },
  {
   "cell_type": "code",
   "execution_count": 48,
   "metadata": {},
   "outputs": [
    {
     "name": "stdout",
     "output_type": "stream",
     "text": [
      "Comparing k-means and mini batch k-means solutions: \n",
      "col_0     0    1    2     3    4    5    6    7     8    9\n",
      "row_0                                                     \n",
      "0        11    9    0     9    0  863    0    0    96  569\n",
      "1         8  572    0     6    0   16   40    1    66    7\n",
      "2       514    9    0    24    0  191    0    1   700   31\n",
      "3         0    1    3     0    0    1    0  370     0    1\n",
      "4         0   64  485   180    0    2    8    2     0    0\n",
      "5        35   45   16  1354    5    3    0    0    13   93\n",
      "6      1259    0    0     0    0    0    0    0   193  565\n",
      "7         5    3    0    38    0   13  245    1  1697    0\n",
      "8         4    0    0    87    0   13  679    0    11    4\n",
      "9        19    6    0     1  326    0    0    0     0  113\n"
     ]
    }
   ],
   "source": [
    "# use miniBatch\n",
    "minibatchkmeans = MiniBatchKMeans(\n",
    "    init='random',\n",
    "    n_clusters=10,\n",
    "    batch_size=300)\n",
    "minibatchkmeans.fit(X_pca)\n",
    "pred_mini = minibatchkmeans.predict(X_pca)\n",
    "\n",
    "# Check the prediction against the previous solution\n",
    "print('Comparing k-means and mini batch k-means solutions: ')\n",
    "print(pd.crosstab(pred_mini, Y_pred))"
   ]
  },
  {
   "cell_type": "code",
   "execution_count": 50,
   "metadata": {},
   "outputs": [
    {
     "name": "stdout",
     "output_type": "stream",
     "text": [
      "Comparing mini batch k-means solutions and data: \n",
      "col_0          0    1    2    3    4    5    6    7    8    9\n",
      "text_source                                                  \n",
      "0            121   53  132    4   45   73   88  232   63   14\n",
      "1             62   28   86    5   22   29  117  164   40    6\n",
      "2            308  148  436   19  189  423  543  454  183   62\n",
      "3            135   91  150    8   52   61  118  286   86   14\n",
      "4             75  128  166   16  235  478  119  309  127   25\n",
      "5            114   30  128    5   33  131  169   97   39    7\n",
      "6             48   39   85    6   79  111  149  202   52    9\n",
      "7            226   18   49    0    6   24  191   30   26   18\n",
      "8            368  150  148  307   69  194  328  170  142  268\n",
      "9            100   31   90    6   11   40  195   58   40   42\n"
     ]
    }
   ],
   "source": [
    "print('Comparing mini batch k-means solutions and data: ')\n",
    "print(pd.crosstab(Y, pred_mini))"
   ]
  },
  {
   "cell_type": "code",
   "execution_count": null,
   "metadata": {},
   "outputs": [],
   "source": []
  },
  {
   "cell_type": "code",
   "execution_count": 51,
   "metadata": {},
   "outputs": [
    {
     "name": "stdout",
     "output_type": "stream",
     "text": [
      "Number of estimated clusters : 16\n"
     ]
    }
   ],
   "source": [
    "# use MeanShift model\n",
    "bandwidth = estimate_bandwidth(X_train, quantile=0.2, n_samples=300)\n",
    "ms = MeanShift(bandwidth=bandwidth, bin_seeding=True)\n",
    "ms.fit(X_train)\n",
    "\n",
    "labels = ms.labels_\n",
    "cluster_centers = ms.cluster_centers_\n",
    "n_clusters_ = len(np.unique(labels))\n",
    "print(\"Number of estimated clusters : {}\".format(n_clusters_))\n"
   ]
  },
  {
   "cell_type": "markdown",
   "metadata": {},
   "source": [
    "## model"
   ]
  },
  {
   "cell_type": "code",
   "execution_count": 52,
   "metadata": {},
   "outputs": [
    {
     "name": "stderr",
     "output_type": "stream",
     "text": [
      "C:\\ProgramData\\Anaconda3\\lib\\site-packages\\sklearn\\ensemble\\forest.py:248: FutureWarning: The default value of n_estimators will change from 10 in version 0.20 to 100 in 0.22.\n",
      "  \"10 in version 0.20 to 100 in 0.22.\", FutureWarning)\n"
     ]
    },
    {
     "name": "stdout",
     "output_type": "stream",
     "text": [
      "Training set score : 0.8270241035005895\n"
     ]
    },
    {
     "data": {
      "text/plain": [
       "array([0.20005909, 0.14633641, 0.16303736, 0.20443608, 0.15959285])"
      ]
     },
     "execution_count": 52,
     "metadata": {},
     "output_type": "execute_result"
    }
   ],
   "source": [
    "rfr = ensemble.RandomForestRegressor()\n",
    "rfr.fit(X_train, Y_train)\n",
    "\n",
    "print('Training set score : {}'.format(rfr.score(X_train, Y_train)))\n",
    "cross_val_score(rfr, X_train, Y_train, cv=5)"
   ]
  },
  {
   "cell_type": "code",
   "execution_count": 53,
   "metadata": {},
   "outputs": [
    {
     "name": "stdout",
     "output_type": "stream",
     "text": [
      "Testing set score : 0.2143779224936786\n"
     ]
    }
   ],
   "source": [
    "# Now take it to test dataset\n",
    "print('Testing set score : {}'.format(rfr.score(X_test, Y_test)))"
   ]
  },
  {
   "cell_type": "code",
   "execution_count": 54,
   "metadata": {},
   "outputs": [
    {
     "name": "stdout",
     "output_type": "stream",
     "text": [
      "Test set score : 0.2143779224936786\n"
     ]
    }
   ],
   "source": [
    "print('Test set score : {}'.format(rfr.score(X_test, Y_test)))"
   ]
  },
  {
   "cell_type": "code",
   "execution_count": null,
   "metadata": {},
   "outputs": [],
   "source": []
  }
 ],
 "metadata": {
  "kernelspec": {
   "display_name": "Python 3",
   "language": "python",
   "name": "python3"
  },
  "language_info": {
   "codemirror_mode": {
    "name": "ipython",
    "version": 3
   },
   "file_extension": ".py",
   "mimetype": "text/x-python",
   "name": "python",
   "nbconvert_exporter": "python",
   "pygments_lexer": "ipython3",
   "version": "3.6.7"
  }
 },
 "nbformat": 4,
 "nbformat_minor": 2
}
