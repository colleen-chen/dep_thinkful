{
 "cells": [
  {
   "cell_type": "markdown",
   "metadata": {},
   "source": [
    "## Unsupervised Learning Capstone\n",
    ">"
   ]
  },
  {
   "cell_type": "code",
   "execution_count": 35,
   "metadata": {},
   "outputs": [],
   "source": [
    "import numpy as np\n",
    "import pandas as pd\n",
    "import scipy\n",
    "import math\n",
    "import seaborn as sns\n",
    "from matplotlib import pyplot as plt\n",
    "%matplotlib inline\n",
    "\n",
    "from datetime import datetime as dt\n",
    "from collections import Counter\n",
    "import re\n",
    "import spacy\n",
    "import nltk\n",
    "from nltk.corpus import gutenberg, stopwords\n",
    "from nltk.corpus import brown, crubadan, timit\n",
    "\n",
    "import sklearn\n",
    "from sklearn import ensemble\n",
    "from sklearn.linear_model import LogisticRegression\n",
    "\n",
    "from sklearn.model_selection import train_test_split\n",
    "from sklearn.model_selection import cross_val_score\n",
    "\n",
    "# clustering models\n",
    "from sklearn.cluster import KMeans\n",
    "from sklearn.preprocessing import normalize\n",
    "from sklearn.decomposition import PCA\n",
    "from sklearn.cluster import MiniBatchKMeans\n",
    "\n",
    "from sklearn.cluster import MeanShift, estimate_bandwidth\n",
    "from sklearn.cluster import SpectralClustering"
   ]
  },
  {
   "cell_type": "code",
   "execution_count": 2,
   "metadata": {},
   "outputs": [],
   "source": [
    "# utility function\n",
    "def text_cleaner(x):\n",
    "    \"\"\"Removing certain chars by using regular expressions.\"\"\"\n",
    "    x = re.sub(r'--', ' ', x)\n",
    "    x = re.sub(r'\\*+', ' ', x)\n",
    "    x = re.sub(\"[\\[].*?[\\]]\", \"\", x)\n",
    "    x = ' '.join(x.split())\n",
    "    return x"
   ]
  },
  {
   "cell_type": "code",
   "execution_count": 3,
   "metadata": {},
   "outputs": [],
   "source": [
    "def record_start_time(t = dt.now):\n",
    "    \"\"\"A system timer for start time.\"\"\"\n",
    "    print('start time {}'.format(t))\n",
    "    return t"
   ]
  },
  {
   "cell_type": "code",
   "execution_count": 4,
   "metadata": {},
   "outputs": [],
   "source": [
    "def record_end_time(starttime, t = dt.now):\n",
    "    \"\"\"A system timer for end time.\"\"\"\n",
    "    print('end time {}'.format(t))\n",
    "    print('Total time passed is {}'.format(t - starttime))\n",
    "    return t"
   ]
  },
  {
   "cell_type": "code",
   "execution_count": 5,
   "metadata": {},
   "outputs": [],
   "source": [
    "def word_frequencies(x, include_stop=True):\n",
    "    \"\"\"Generate word counts for a string.\"\"\"\n",
    "    words = []\n",
    "    for token in x:\n",
    "        if not token.is_punct and (not token.is_stop or include_stop):\n",
    "            words.append(token.text)\n",
    "            \n",
    "    return Counter(words)"
   ]
  },
  {
   "cell_type": "code",
   "execution_count": 6,
   "metadata": {},
   "outputs": [],
   "source": [
    "def lemma_frequencies(text, include_stop=True):\n",
    "    \"\"\"Generate word lemma counts for a string\"\"\"\n",
    "    lemmas = []\n",
    "    for token in text:\n",
    "        if not token.is_punct and (not token.is_stop or include_stop):\n",
    "            lemmas.append(token.lemma_)\n",
    "    \n",
    "    return Counter(lemmas)"
   ]
  },
  {
   "cell_type": "code",
   "execution_count": 7,
   "metadata": {},
   "outputs": [],
   "source": [
    "def bag_of_words(text, nsize, include_stop):\n",
    "    \"\"\"Generate list of words contained in a string.\"\"\"\n",
    "    container = lemma_frequencies(text, include_stop).most_common(nsize)\n",
    "    return [item[0] for item in container]  "
   ]
  },
  {
   "cell_type": "code",
   "execution_count": 23,
   "metadata": {},
   "outputs": [],
   "source": [
    "def bow_of_features(sentences, common_words):\n",
    "    df = pd.DataFrame(columns=common_words)\n",
    "    df['text_sentence'] = sentences[0]\n",
    "    df['text_source'] = sentences[1]\n",
    "    df.loc[:, common_words] = 0\n",
    "    \n",
    "    for i, sentence in enumerate(df['text_sentence']):\n",
    "        words = [token.lemma_\n",
    "                 for token in sentence\n",
    "                 if (\n",
    "                     not token.is_punct\n",
    "                     and not token.is_stop\n",
    "                     and token.lemma_ in common_words\n",
    "                 )]\n",
    "    \n",
    "        for word in words:\n",
    "            df.loc[i, word] += 1\n",
    "        \n",
    "        if i % 1000 == 0:\n",
    "            print('Processing row {}'.format(i))\n",
    "    \n",
    "    return df"
   ]
  },
  {
   "cell_type": "code",
   "execution_count": 25,
   "metadata": {},
   "outputs": [],
   "source": [
    "def stat_words_per_sentence(sentences, df):\n",
    "    words = []\n",
    "    for ss in sentences[0]:\n",
    "        words.append(len(ss)) \n",
    "        \n",
    "    df_local = pd.DataFrame(words, columns=['entity'])\n",
    "    df['count'] = df_local.describe().loc['count', 'entity']\n",
    "    df['25perc'] = df_local.describe().loc['25%', 'entity']\n",
    "    df['50perc'] = df_local.describe().loc['50%', 'entity']\n",
    "    df['75perc'] = df_local.describe().loc['75%', 'entity']\n",
    "    df['max'] = df_local.describe().loc['max', 'entity']"
   ]
  },
  {
   "cell_type": "code",
   "execution_count": 9,
   "metadata": {},
   "outputs": [
    {
     "name": "stdout",
     "output_type": "stream",
     "text": [
      "['austen-emma.txt', 'austen-persuasion.txt', 'austen-sense.txt', 'bible-kjv.txt', 'blake-poems.txt', 'bryant-stories.txt', 'burgess-busterbrown.txt', 'carroll-alice.txt', 'chesterton-ball.txt', 'chesterton-brown.txt', 'chesterton-thursday.txt', 'edgeworth-parents.txt', 'melville-moby_dick.txt', 'milton-paradise.txt', 'shakespeare-caesar.txt', 'shakespeare-hamlet.txt', 'shakespeare-macbeth.txt', 'whitman-leaves.txt']\n",
      "DONE\n"
     ]
    }
   ],
   "source": [
    "#print(brown.fileids())\n",
    "print(gutenberg.fileids())\n",
    "\n",
    "austen1 = gutenberg.raw('austen-' + 'emma' + '.txt')\n",
    "austen2 = gutenberg.raw('austen-' + 'persuasion' + '.txt')\n",
    "bryant = gutenberg.raw('bryant-' + 'stories' + '.txt')\n",
    "burgess = gutenberg.raw('burgess-busterbrown' + '.txt')\n",
    "carroll = gutenberg.raw('carroll-alice' + '.txt')\n",
    "chesterton = gutenberg.raw('chesterton-brown' + '.txt')\n",
    "edgeworth = gutenberg.raw('edgeworth-parents' + '.txt')\n",
    "melville = gutenberg.raw('melville-moby_dick' + '.txt')\n",
    "milton = gutenberg.raw('milton-paradise' + '.txt')\n",
    "shakespeare = gutenberg.raw('shakespeare-caesar' + '.txt')\n",
    "whitman = gutenberg.raw('whitman-leaves' + '.txt')\n",
    "\n",
    "print('DONE')"
   ]
  },
  {
   "cell_type": "code",
   "execution_count": 10,
   "metadata": {},
   "outputs": [],
   "source": [
    "# cleanup dataset\n",
    "# remove VOLUME, CHAPTER\n",
    "austen1 = re.sub(r'CHAPTER [I]*[V]*[X]*', '', austen1)\n",
    "austen1 = re.sub(r'VOLUME [I]*[V]*[X]*', '', austen1)\n",
    "austen1 = text_cleaner(austen1)\n",
    "                 \n",
    "austen2 = re.sub(r'Chapter \\d+', '', austen2)\n",
    "austen2 = text_cleaner(austen2)\n",
    "                 \n",
    "bryant = text_cleaner(bryant)\n",
    "                 \n",
    "burgess = re.sub(r'[I]*[V]*[X]*\\n', '', burgess)\n",
    "burgess = text_cleaner(burgess)\n",
    "\n",
    "#carroll = re.sub[r'CHAPTER [A-Z]*.', '', carroll]\n",
    "carroll = text_cleaner(carroll)                \n",
    "                 \n",
    "chesterton = text_cleaner(chesterton)\n",
    "\n",
    "edgeworth = text_cleaner(edgeworth)\n",
    "                 \n",
    "milton = text_cleaner(milton)\n",
    "\n",
    "shakespeare = text_cleaner(shakespeare)\n",
    "\n",
    "whitman = text_cleaner(whitman)"
   ]
  },
  {
   "cell_type": "code",
   "execution_count": 11,
   "metadata": {},
   "outputs": [
    {
     "name": "stdout",
     "output_type": "stream",
     "text": [
      "DONE\n"
     ]
    }
   ],
   "source": [
    "# feature engineer\n",
    "nlp = spacy.load('en_core_web_sm')\n",
    "austen1_doc = nlp(austen1)\n",
    "austen2_doc = nlp(austen2)\n",
    "bryant_doc = nlp(bryant)\n",
    "burgess_doc = nlp(burgess)\n",
    "carroll_doc = nlp(carroll)\n",
    "chesterton_doc = nlp(chesterton)\n",
    "edgeworth_doc = nlp(edgeworth)\n",
    "milton_doc = nlp(milton)\n",
    "shakespeare_doc = nlp(shakespeare)\n",
    "whitman_doc = nlp(whitman)\n",
    "print('DONE')"
   ]
  },
  {
   "cell_type": "code",
   "execution_count": 49,
   "metadata": {},
   "outputs": [
    {
     "data": {
      "text/html": [
       "<div>\n",
       "<style scoped>\n",
       "    .dataframe tbody tr th:only-of-type {\n",
       "        vertical-align: middle;\n",
       "    }\n",
       "\n",
       "    .dataframe tbody tr th {\n",
       "        vertical-align: top;\n",
       "    }\n",
       "\n",
       "    .dataframe thead th {\n",
       "        text-align: right;\n",
       "    }\n",
       "</style>\n",
       "<table border=\"1\" class=\"dataframe\">\n",
       "  <thead>\n",
       "    <tr style=\"text-align: right;\">\n",
       "      <th></th>\n",
       "      <th>0</th>\n",
       "      <th>1</th>\n",
       "    </tr>\n",
       "  </thead>\n",
       "  <tbody>\n",
       "    <tr>\n",
       "      <th>0</th>\n",
       "      <td>(Emma, Woodhouse, ,, handsome, ,, clever, ,, a...</td>\n",
       "      <td>0</td>\n",
       "    </tr>\n",
       "    <tr>\n",
       "      <th>1</th>\n",
       "      <td>(She, was, the, youngest, of, the, two, daught...</td>\n",
       "      <td>0</td>\n",
       "    </tr>\n",
       "    <tr>\n",
       "      <th>2</th>\n",
       "      <td>(Her, mother, had, died, too, long, ago, for, ...</td>\n",
       "      <td>0</td>\n",
       "    </tr>\n",
       "    <tr>\n",
       "      <th>3</th>\n",
       "      <td>(Sixteen, years, had, Miss, Taylor, been, in, ...</td>\n",
       "      <td>0</td>\n",
       "    </tr>\n",
       "    <tr>\n",
       "      <th>4</th>\n",
       "      <td>(Between, _, them)</td>\n",
       "      <td>0</td>\n",
       "    </tr>\n",
       "  </tbody>\n",
       "</table>\n",
       "</div>"
      ],
      "text/plain": [
       "                                                   0  1\n",
       "0  (Emma, Woodhouse, ,, handsome, ,, clever, ,, a...  0\n",
       "1  (She, was, the, youngest, of, the, two, daught...  0\n",
       "2  (Her, mother, had, died, too, long, ago, for, ...  0\n",
       "3  (Sixteen, years, had, Miss, Taylor, been, in, ...  0\n",
       "4                                 (Between, _, them)  0"
      ]
     },
     "execution_count": 49,
     "metadata": {},
     "output_type": "execute_result"
    }
   ],
   "source": [
    "# group into sentences\n",
    "austen1_sents = [[sent, 0] for sent in austen1_doc.sents]                       # austen1 ---  0\n",
    "austen2_sents = [[sent, 1] for sent in austen2_doc.sents]                       # austen2 ---  1\n",
    "bryant_sents = [[sent, 2] for sent in bryant_doc.sents]                         # bryant  ---  2\n",
    "burgess_sents = [[sent, 3] for sent in burgess_doc.sents]                       # burgess ---  3\n",
    "carroll_sents = [[sent, 4] for sent in carroll_doc.sents]                       # carroll ---  4\n",
    "chesterton_sents = [[sent, 5] for sent in chesterton_doc.sents]                 # chesterton ---  5\n",
    "edgeworth_sents = [[sent, 6] for sent in edgeworth_doc.sents]                   # edgeworth ---6\n",
    "milton_sents = [[sent, 7] for sent in milton_doc.sents]                         # milton  ---  7    \n",
    "shakespeare_sents = [[sent, 8] for sent in shakespeare_doc.sents]               # shakespeare --- 8\n",
    "whitman_sents = [[sent, 9] for sent in whitman_doc.sents]                       # whitman ---  9\n",
    "\n",
    "sentences = pd.DataFrame(austen1_sents +\n",
    "                         austen2_sents +\n",
    "                         bryant_sents +\n",
    "                         burgess_sents +\n",
    "                         carroll_sents +\n",
    "                         chesterton_sents +\n",
    "                         edgeworth_sents +\n",
    "                         milton_sents +\n",
    "                         shakespeare_sents +\n",
    "                         whitman_sents)\n",
    "sentences.head()"
   ]
  },
  {
   "cell_type": "code",
   "execution_count": 50,
   "metadata": {},
   "outputs": [],
   "source": [
    "# constructing bag_of_words\n",
    "austen1_common = bag_of_words(austen1_doc, 20, False)        \n",
    "austen2_common = bag_of_words(austen2_doc, 20, False)\n",
    "bryant_common = bag_of_words(bryant_doc, 20, False)\n",
    "burgess_common = bag_of_words(burgess_doc, 20, False)\n",
    "carroll_common = bag_of_words(carroll_doc, 20, False)\n",
    "chesterton_common = bag_of_words(chesterton_doc, 20, False)\n",
    "edgeworth_common = bag_of_words(edgeworth_doc, 20, False)\n",
    "milton_common = bag_of_words(milton_doc, 20, False)\n",
    "shakespeare_common = bag_of_words(shakespeare_doc, 20, False)\n",
    "whitman_common = bag_of_words(whitman_doc, 20, False)\n",
    "\n",
    "# common and unique words\n",
    "words_common = [x for x in (set(austen1_common) - set(austen2_common) - set(bryant_common) - set(burgess_common) -\n",
    "                            set(carroll_common) - set(chesterton_common) - set(edgeworth_common) - set(milton_common) -\n",
    "                            set(shakespeare_common) - set(whitman_common))]\n",
    "\n",
    "for y in (set(austen2_common) - set(austen1_common) - set(bryant_common) - set(burgess_common) - set(carroll_common) - \n",
    "          set(chesterton_common) - set(edgeworth_common) - set(milton_common) - set(shakespeare_common) - set(whitman_common)):\n",
    "    words_common.append(y)\n",
    "    \n",
    "for y in (set(bryant_common) - set(austen1_common) - set(austen2_common) - set(burgess_common) - set(carroll_common) - \n",
    "          set(chesterton_common) - set(edgeworth_common) - set(milton_common) - set(shakespeare_common) - set(whitman_common)):\n",
    "    words_common.append(y)\n",
    "    \n",
    "for y in (set(burgess_common) - set(austen1_common) - set(bryant_common) - set(austen2_common) - set(carroll_common) - \n",
    "          set(chesterton_common) - set(edgeworth_common) - set(milton_common) - set(shakespeare_common) - set(whitman_common)):\n",
    "    words_common.append(y)\n",
    "    \n",
    "for y in (set(carroll_common) - set(austen1_common) - set(bryant_common) - set(burgess_common) - set(austen2_common) - \n",
    "          set(chesterton_common) - set(edgeworth_common) - set(milton_common) - set(shakespeare_common) - set(whitman_common)):\n",
    "    words_common.append(y)\n",
    "    \n",
    "for y in (set(chesterton_common) - set(austen1_common) - set(bryant_common) - set(burgess_common) - set(carroll_common) - \n",
    "          set(austen2_common) - set(edgeworth_common) - set(milton_common) - set(shakespeare_common) - set(whitman_common)):\n",
    "    words_common.append(y)\n",
    "    \n",
    "for y in (set(edgeworth_common) - set(austen1_common) - set(bryant_common) - set(burgess_common) - set(carroll_common) - \n",
    "          set(chesterton_common) - set(austen2_common) - set(milton_common) - set(shakespeare_common) - set(whitman_common)):\n",
    "    words_common.append(y)\n",
    "    \n",
    "for y in (set(milton_common) - set(austen1_common) - set(bryant_common) - set(burgess_common) - set(carroll_common) - \n",
    "          set(chesterton_common) - set(edgeworth_common) - set(austen2_common) - set(shakespeare_common) - set(whitman_common)):\n",
    "    words_common.append(y)\n",
    "    \n",
    "for y in (set(shakespeare_common) - set(austen1_common) - set(bryant_common) - set(burgess_common) - set(carroll_common) - \n",
    "          set(chesterton_common) - set(edgeworth_common) - set(milton_common) - set(austen2_common) - set(whitman_common)):\n",
    "    words_common.append(y)\n",
    "    \n",
    "for y in (set(whitman_common) - set(austen1_common) - set(bryant_common) - set(burgess_common) - set(carroll_common) - \n",
    "          set(chesterton_common) - set(edgeworth_common) - set(milton_common) - set(shakespeare_common) - set(austen2_common)):\n",
    "    words_common.append(y)\n"
   ]
  },
  {
   "cell_type": "code",
   "execution_count": 51,
   "metadata": {},
   "outputs": [
    {
     "name": "stdout",
     "output_type": "stream",
     "text": [
      "Processing row 0\n",
      "Processing row 1000\n",
      "Processing row 2000\n",
      "Processing row 3000\n",
      "Processing row 4000\n",
      "Processing row 5000\n",
      "Processing row 6000\n",
      "Processing row 7000\n",
      "Processing row 8000\n",
      "Processing row 9000\n",
      "Processing row 10000\n",
      "Processing row 11000\n",
      "Processing row 12000\n",
      "Processing row 13000\n",
      "Processing row 14000\n",
      "Processing row 15000\n",
      "Processing row 16000\n",
      "Processing row 17000\n",
      "Processing row 18000\n",
      "Processing row 19000\n",
      "Processing row 20000\n",
      "Processing row 21000\n",
      "Processing row 22000\n",
      "Processing row 23000\n",
      "Processing row 24000\n",
      "Processing row 25000\n",
      "Processing row 26000\n",
      "Processing row 27000\n",
      "Processing row 28000\n",
      "Processing row 29000\n",
      "Processing row 30000\n",
      "Processing row 31000\n",
      "Processing row 32000\n",
      "Processing row 33000\n",
      "Processing row 34000\n",
      "Processing row 35000\n",
      "Processing row 36000\n",
      "Processing row 37000\n",
      "Processing row 38000\n",
      "Processing row 39000\n",
      "Processing row 40000\n",
      "Processing row 41000\n",
      "Processing row 42000\n"
     ]
    }
   ],
   "source": [
    "# constructing Dataset\n",
    "features = bow_of_features(sentences, words_common)\n",
    "# add words per sentence statistics\n",
    "stat_words_per_sentence(sentences, features)"
   ]
  },
  {
   "cell_type": "markdown",
   "metadata": {},
   "source": [
    "## Now start with clustering model"
   ]
  },
  {
   "cell_type": "code",
   "execution_count": 52,
   "metadata": {},
   "outputs": [],
   "source": [
    "# start clustering models\n",
    "Y = features['text_source']\n",
    "X = features.drop(['text_source', 'text_sentence'], 1)\n",
    "\n",
    "X_train, X_test, Y_train, Y_test = train_test_split(\n",
    "    X, Y, test_size=0.75, random_state=42)"
   ]
  },
  {
   "cell_type": "code",
   "execution_count": 53,
   "metadata": {},
   "outputs": [
    {
     "name": "stdout",
     "output_type": "stream",
     "text": [
      "Comparing k-means and mini batch k-means solutions: \n",
      "text_source     0     1     2    3     4     5     6     7     8     9\n",
      "row_0                                                                 \n",
      "0             454   112     1    0     5    32   169     4     0     5\n",
      "1            6969  3009  2387  863  1510  3082  8500  1963  2057  4865\n",
      "2             201   106    69   27    48    96   301    64     9   143\n",
      "3             130    83    50   19    31    82   116    70     6   180\n",
      "4             155    96    65    0     5   205   231    44     1    31\n",
      "5              10     5    14   14    12     6    14   454    17    88\n",
      "6             150    58    54   27    37    92   288    21    40    51\n",
      "7             111    48    21    2     2     6    86    74     0   241\n",
      "8             182   132   104   48    28   115   238    69    14   105\n",
      "9             561     0     0    1     0     0   224     0     0     0\n"
     ]
    },
    {
     "data": {
      "image/png": "[encoded data removed]",
      "text/plain": [
       "<Figure size 432x288 with 1 Axes>"
      ]
     },
     "metadata": {
      "needs_background": "light"
     },
     "output_type": "display_data"
    }
   ],
   "source": [
    "# KMeans cluster model\n",
    "X_norm = normalize(X)\n",
    "X_pca = PCA(10).fit_transform(X_norm)\n",
    "Y_pred = KMeans(n_clusters=10, random_state=42).fit_predict(X_pca)\n",
    "\n",
    "plt.scatter(X_pca[:,0], X_pca[:,1], c=Y_pred)\n",
    "\n",
    "# Check the prediction against the data\n",
    "print('Comparing k-means and mini batch k-means solutions: ')\n",
    "print(pd.crosstab(Y_pred, Y))"
   ]
  },
  {
   "cell_type": "markdown",
   "metadata": {},
   "source": [
    "## Looks like the KMeans model don't do very well"
   ]
  },
  {
   "cell_type": "code",
   "execution_count": 54,
   "metadata": {},
   "outputs": [
    {
     "name": "stdout",
     "output_type": "stream",
     "text": [
      "Comparing k-means and mini batch k-means solutions: \n",
      "col_0    0      1    2    3    4    5    6    7    8    9\n",
      "row_0                                                    \n",
      "0        0     21  892    0    0    0  722    4    0    0\n",
      "1        7      0   28  766    1    4   20    9   26    0\n",
      "2        2    131   17    0    0  628    8   92   14    0\n",
      "3      729    592   83    0    0    1   18   32  956    0\n",
      "4        0   2240    0    0    0    0    0    0    0    0\n",
      "5       36      0   21    0    0    0   18    3    9  784\n",
      "6        7      0   23    1  832    1   32    7   30    0\n",
      "7        0  28979    0    0    0    0    0    0    0    0\n",
      "8        1   1509    0    0    0    0    0    0    0    2\n",
      "9        0   1733    0    0    0    0    0  444    0    0\n"
     ]
    }
   ],
   "source": [
    "# use miniBatch\n",
    "minibatchkmeans = MiniBatchKMeans(\n",
    "    init='random',\n",
    "    n_clusters=10,\n",
    "    batch_size=300)\n",
    "minibatchkmeans.fit(X_pca)\n",
    "pred_mini = minibatchkmeans.predict(X_pca)\n",
    "\n",
    "# Check the prediction against the previous solution\n",
    "print('Comparing k-means and mini batch k-means solutions: ')\n",
    "print(pd.crosstab(pred_mini, Y_pred))"
   ]
  },
  {
   "cell_type": "code",
   "execution_count": 55,
   "metadata": {},
   "outputs": [
    {
     "name": "stdout",
     "output_type": "stream",
     "text": [
      "Comparing mini batch k-means solutions and data: \n",
      "text_source     0     1     2    3     4     5     6     7     8     9\n",
      "row_0                                                                 \n",
      "0             292   141   115   54    78   166   514    58    49   172\n",
      "1             146    97    54   19    35    95   130    76     6   203\n",
      "2              13     7    21   16    14     8    19   606    18   170\n",
      "3             615   240   111   49    37   137   440   125    82   575\n",
      "4             185   123   242   25   107   151   262   563    92   490\n",
      "5             606     0     0    1     0     0   264     0     0     0\n",
      "6             173   112    73    0     5   224   263    47     2    34\n",
      "7            5258  2251  2004  675  1347  2845  7828  1180  1842  3749\n",
      "8            1124   158    43   11    37    36    67    19     5    12\n",
      "9             511   520   102  151    18    54   380    89    48   304\n"
     ]
    }
   ],
   "source": [
    "print('Comparing mini batch k-means solutions and data: ')\n",
    "print(pd.crosstab(pred_mini, Y))"
   ]
  },
  {
   "cell_type": "code",
   "execution_count": null,
   "metadata": {},
   "outputs": [],
   "source": []
  },
  {
   "cell_type": "code",
   "execution_count": 56,
   "metadata": {},
   "outputs": [
    {
     "name": "stdout",
     "output_type": "stream",
     "text": [
      "Number of estimated clusters : 958\n"
     ]
    }
   ],
   "source": [
    "# use MeanShift model\n",
    "bandwidth = estimate_bandwidth(X_train, quantile=0.2, n_samples=300)\n",
    "ms = MeanShift(bandwidth=bandwidth, bin_seeding=True)\n",
    "ms.fit(X_train)\n",
    "\n",
    "labels = ms.labels_\n",
    "cluster_centers = ms.cluster_centers_\n",
    "n_clusters_ = len(np.unique(labels))\n",
    "print(\"Number of estimated clusters : {}\".format(n_clusters_))\n"
   ]
  },
  {
   "cell_type": "markdown",
   "metadata": {},
   "source": [
    "## model"
   ]
  },
  {
   "cell_type": "code",
   "execution_count": 61,
   "metadata": {},
   "outputs": [
    {
     "name": "stderr",
     "output_type": "stream",
     "text": [
      "C:\\ProgramData\\Anaconda3\\lib\\site-packages\\sklearn\\ensemble\\forest.py:248: FutureWarning: The default value of n_estimators will change from 10 in version 0.20 to 100 in 0.22.\n",
      "  \"10 in version 0.20 to 100 in 0.22.\", FutureWarning)\n"
     ]
    },
    {
     "name": "stdout",
     "output_type": "stream",
     "text": [
      "Training set score : 0.24770749309346918\n"
     ]
    },
    {
     "data": {
      "text/plain": [
       "array([0.20400486, 0.20804485, 0.20679085, 0.19965974, 0.21713367])"
      ]
     },
     "execution_count": 61,
     "metadata": {},
     "output_type": "execute_result"
    }
   ],
   "source": [
    "rfr = ensemble.RandomForestRegressor()\n",
    "rfr.fit(X_train, Y_train)\n",
    "\n",
    "print('Training set score : {}'.format(rfr.score(X_train, Y_train)))\n",
    "cross_val_score(rfr, X_train, Y_train, cv=5)"
   ]
  },
  {
   "cell_type": "code",
   "execution_count": 62,
   "metadata": {},
   "outputs": [
    {
     "name": "stdout",
     "output_type": "stream",
     "text": [
      "Testing set score : 0.20963985578656152\n"
     ]
    }
   ],
   "source": [
    "# Now take it to test dataset\n",
    "print('Testing set score : {}'.format(rfr.score(X_test, Y_test)))"
   ]
  },
  {
   "cell_type": "code",
   "execution_count": null,
   "metadata": {},
   "outputs": [],
   "source": []
  },
  {
   "cell_type": "code",
   "execution_count": null,
   "metadata": {},
   "outputs": [],
   "source": []
  },
  {
   "cell_type": "code",
   "execution_count": null,
   "metadata": {},
   "outputs": [],
   "source": [
    "print('Test set score : {}'.format(rfr.score(X_test, Y_test)))"
   ]
  }
 ],
 "metadata": {
  "kernelspec": {
   "display_name": "Python 3",
   "language": "python",
   "name": "python3"
  },
  "language_info": {
   "codemirror_mode": {
    "name": "ipython",
    "version": 3
   },
   "file_extension": ".py",
   "mimetype": "text/x-python",
   "name": "python",
   "nbconvert_exporter": "python",
   "pygments_lexer": "ipython3",
   "version": "3.6.7"
  }
 },
 "nbformat": 4,
 "nbformat_minor": 2
}
