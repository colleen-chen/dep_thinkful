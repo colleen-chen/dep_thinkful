{
 "cells": [
  {
   "cell_type": "markdown",
   "metadata": {},
   "source": [
    "##   TLADS Drill\n",
    "Categorize each of the variables in the ESS dataset as categorical or continuous, and if continuous as ordinal, interval, or ratio variables. Check your work with your mentor, and discuss what that information might imply for feature engineering with this data."
   ]
  },
  {
   "cell_type": "markdown",
   "metadata": {},
   "source": [
    "Below are results of categorizing:\n",
    "\n",
    "cntry               categorical\t\n",
    "idno\t            continuous             ---     ratio\n",
    "year\t            continuous             ---     ratio \n",
    "tvtot\t            continuous             ---     ratio\n",
    "ppltrst\t            continuous             ---     ratio\n",
    "pplfair\t            continuous             ---     ratio\n",
    "pplhlp\t            continuous             ---     ratio\n",
    "happy\t            categorical      \n",
    "sclmeet\t            continuous             ---     ratio\n",
    "sclact\t            categorical\n",
    "gndr\t            categorical\n",
    "agea\t            continuous             ---     ratio\n",
    "partner             categorical\n"
   ]
  }
 ],
 "metadata": {
  "kernelspec": {
   "display_name": "Python 3",
   "language": "python",
   "name": "python3"
  },
  "language_info": {
   "codemirror_mode": {
    "name": "ipython",
    "version": 3
   },
   "file_extension": ".py",
   "mimetype": "text/x-python",
   "name": "python",
   "nbconvert_exporter": "python",
   "pygments_lexer": "ipython3",
   "version": "3.6.7"
  }
 },
 "nbformat": 4,
 "nbformat_minor": 2
}
