{
 "cells": [
  {
   "cell_type": "markdown",
   "metadata": {},
   "source": [
    "##   TLADS Drill\n",
    "Categorize each of the variables in the ESS dataset as categorical or continuous, and if continuous as ordinal, interval, or ratio variables. Check your work with your mentor, and discuss what that information might imply for feature engineering with this data.\n",
    ">"
   ]
  },
  {
   "cell_type": "markdown",
   "metadata": {},
   "source": [
    "Below are results of categorizing:\n",
    "\n",
    "cntry               categorical\t\n",
    "\n",
    "idno\t            continuous             ---     ratio\n",
    "\n",
    "year\t            continuous             ---     ratio \n",
    "\n",
    "tvtot\t            continuous             ---     ratio\n",
    "\n",
    "ppltrst\t            continuous             ---     ratio\n",
    "\n",
    "pplfair\t            continuous             ---     ratio\n",
    "\n",
    "pplhlp\t            continuous             ---     ratio\n",
    "\n",
    "happy\t            categorical      \n",
    "\n",
    "sclmeet\t            continuous             ---     ratio\n",
    "\n",
    "sclact\t            categorical\n",
    "\n",
    "gndr\t            categorical\n",
    "\n",
    "agea\t            continuous             ---     ratio\n",
    "\n",
    "partner             categorical\n"
   ]
  },
  {
   "cell_type": "code",
   "execution_count": null,
   "metadata": {},
   "outputs": [],
   "source": []
  }
 ],
 "metadata": {
  "kernelspec": {
   "display_name": "Python 3",
   "language": "python",
   "name": "python3"
  },
  "language_info": {
   "codemirror_mode": {
    "name": "ipython",
    "version": 3
   },
   "file_extension": ".py",
   "mimetype": "text/x-python",
   "name": "python",
   "nbconvert_exporter": "python",
   "pygments_lexer": "ipython3",
   "version": "3.6.7"
  }
 },
 "nbformat": 4,
 "nbformat_minor": 2
}
