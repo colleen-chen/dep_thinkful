{
 "cells": [
  {
   "cell_type": "code",
   "execution_count": 191,
   "metadata": {},
   "outputs": [],
   "source": [
    "import numpy as np\n",
    "import pandas as pd\n",
    "import bisect\n",
    "import types\n",
    "from matplotlib import pyplot as plt\n",
    "%matplotlib inline"
   ]
  },
  {
   "cell_type": "code",
   "execution_count": 201,
   "metadata": {},
   "outputs": [],
   "source": [
    "class k_nearest_neighbors:\n",
    "    def __init__(self, n_neighbors, category0=0, category1=1):\n",
    "        self.n_neighbors = n_neighbors\n",
    "        self.X = pd.DataFrame()\n",
    "        self.Y = pd.DataFrame()\n",
    "        self.category0 = category0\n",
    "        self.category1 = category1\n",
    "        self.vote1 = 0\n",
    "        self.vote2 = 0\n",
    "        \n",
    "    # 2-columns data X    \n",
    "    def fit(self, X, Y):\n",
    "        self.X['col1'] = X[X.columns[0]]\n",
    "        self.X['col2'] = X[X.columns[1]]\n",
    "        self.Y['col'] = Y\n",
    "    \n",
    "    # 2-dim list Z\n",
    "    def predict(self, Z):\n",
    "        distance = []\n",
    "        orderIndex = []\n",
    "        npos = 0\n",
    "        value = 0.0\n",
    "        tot = range(self.X.shape[0])\n",
    "        for i in tot:\n",
    "            npos = 0\n",
    "            value = (self.X.loc[i, 'col1'] - Z[0])**2 + (self.X.loc[i, 'col2'] - Z[1])**2\n",
    "            for j in range(len(distance)):\n",
    "                if distance[j] > value:\n",
    "                    npos = j\n",
    "                    distance.insert(npos, value)\n",
    "                    orderIndex.insert(npos, i)\n",
    "                    break\n",
    "                else:\n",
    "                    npos += 1\n",
    "            else:\n",
    "                distance.append(value)\n",
    "                orderIndex.append(i)\n",
    "        # calculate probabilities\n",
    "        vote1 = 0\n",
    "        vote2 = 0\n",
    "        for k in range(self.n_neighbors):\n",
    "            if type(self.Y.loc[k, 'col']) == bool:\n",
    "                if (self.Y.loc[k, 'col'] & self.category0) | ((not self.Y.loc[k, 'col']) & (not self.category0)):\n",
    "                    vote1 += 1\n",
    "                elif (self.Y.loc[k, 'col'] & self.category1) | ((not self.Y.loc[k, 'col']) & (not self.category1)):\n",
    "                    vote2 += 1\n",
    "                else:\n",
    "                    raise ValueError(\"Category value must be 0 or 1\")\n",
    "            else:\n",
    "                if str(self.Y.loc[k, 'col']).lower() == str(self.category0).lower():\n",
    "                    print('category = {}'.format(self.Y.loc[k, 'col']))\n",
    "                    vote1 += 1\n",
    "                elif str(self.Y.loc[k, 'col']).lower() == str(self.category1).lower():\n",
    "                    print('category = {}'.format(self.Y.loc[k, 'col']))\n",
    "                    vote2 += 1\n",
    "                else:\n",
    "                    raise ValueError(\"Category value must be 0 or 1\")\n",
    "                \n",
    "        print(\"vote1 = {}\".format(vote1))\n",
    "        print(\"vote2 = {}\".format(vote2))\n",
    "        self.vote1 = vote1\n",
    "        self.vote2 = vote2\n",
    "        return self.category0 if vote1 > vote2 else self.category1\n",
    "    \n",
    "    # 2-dim list Z\n",
    "    def predict_prob(self, Z):\n",
    "        if self.vote1 > 0:\n",
    "            return (self.vote1 / (self.vote1 + self.vote2)), (self.vote2 / (self.vote1 + self.vote2))\n",
    "        else:\n",
    "            raise ValueError(\"Please run predict(Z) first\")"
   ]
  },
  {
   "cell_type": "code",
   "execution_count": null,
   "metadata": {},
   "outputs": [],
   "source": []
  },
  {
   "cell_type": "code",
   "execution_count": 202,
   "metadata": {},
   "outputs": [],
   "source": [
    "# Here is a test case\n",
    "music = pd.DataFrame()\n",
    "music['duration'] = [184, 134, 243, 186, 122, 197, 294, 382, 102, 264, 205, 110, 307, 110, 397, 153, 190, 192, 210, 403, 164, 198, 204, 253, 234, 190, 182, 401, 376, 102]\n",
    "music['loudness'] = [18, 34, 43, 36, 22, 9, 29, 22, 10, 24, 20, 10, 17, 51, 7, 13, 19, 12, 21, 22, 16, 18, 4, 23, 34, 19, 14, 11, 37, 42]\n",
    "\n",
    "# We know whether the songs in our training data are jazz or not.\n",
    "music['jazz'] = [1, 0, 0, 0, 1, 1, 0, 1, 1, 0, 0, 1, 1, 0, 1, 1, 0, 1, 1, 1, 1, 1, 1, 1, 0, 0, 1, 1, 0, 0]"
   ]
  },
  {
   "cell_type": "code",
   "execution_count": 203,
   "metadata": {},
   "outputs": [],
   "source": [
    "X = pd.DataFrame()\n",
    "Y = pd.DataFrame()\n",
    "X = music[['duration', 'loudness']]\n",
    "Y = music['jazz']"
   ]
  },
  {
   "cell_type": "code",
   "execution_count": 204,
   "metadata": {},
   "outputs": [],
   "source": [
    "model = k_nearest_neighbors(3)\n",
    "model.fit(X, Y)"
   ]
  },
  {
   "cell_type": "code",
   "execution_count": 205,
   "metadata": {},
   "outputs": [
    {
     "name": "stdout",
     "output_type": "stream",
     "text": [
      "category = 1\n",
      "category = 0\n",
      "category = 0\n",
      "vote1 = 2\n",
      "vote2 = 1\n"
     ]
    }
   ],
   "source": [
    "Z = (290, 18)\n",
    "aa = model.predict(Z)"
   ]
  },
  {
   "cell_type": "code",
   "execution_count": 206,
   "metadata": {},
   "outputs": [
    {
     "name": "stdout",
     "output_type": "stream",
     "text": [
      "(0.6666666666666666, 0.3333333333333333)\n"
     ]
    }
   ],
   "source": [
    "print(model.predict_prob(Z))"
   ]
  },
  {
   "cell_type": "code",
   "execution_count": 209,
   "metadata": {},
   "outputs": [
    {
     "name": "stdout",
     "output_type": "stream",
     "text": [
      "[0]\n",
      "[[0.66666667 0.33333333]]\n"
     ]
    },
    {
     "data": {
      "text/plain": [
       "<matplotlib.collections.QuadMesh at 0xae574a8>"
      ]
     },
     "execution_count": 209,
     "metadata": {},
     "output_type": "execute_result"
    },
    {
     "data": {
      "image/png": "[encoded data removed]",
      "text/plain": [
       "<Figure size 432x288 with 1 Axes>"
      ]
     },
     "metadata": {
      "needs_background": "light"
     },
     "output_type": "display_data"
    }
   ],
   "source": [
    "# Here is fitting with sklearn's model KNeighborsClassifier\n",
    "from sklearn.neighbors import KNeighborsClassifier\n",
    "neighbors = KNeighborsClassifier(n_neighbors=3)\n",
    "\n",
    "neighbors.fit(X, Y)\n",
    "print(neighbors.predict([[290, 18]]))\n",
    "print(neighbors.predict_proba([[290, 18]]))\n",
    "\n",
    "X = np.array(X)\n",
    "Y = np.array(Y)\n",
    "\n",
    "# Mesh size.\n",
    "h = 4.0\n",
    "\n",
    "# Plot the decision boundary. We assign a color to each point in the mesh.\n",
    "x_min = X[:, 0].min() - .5\n",
    "x_max = X[:, 0].max() + .5\n",
    "y_min = X[:, 1].min() - .5\n",
    "y_max = X[:, 1].max() + .5\n",
    "xx, yy = np.meshgrid(\n",
    "    np.arange(x_min, x_max, h),\n",
    "    np.arange(y_min, y_max, h)\n",
    ")\n",
    "Z0 = neighbors.predict(np.c_[xx.ravel(), yy.ravel()])\n",
    "\n",
    "# Put the result into a color plot.\n",
    "Z0 = Z0.reshape(xx.shape)\n",
    "plt.figure(1, figsize=(6, 4))\n",
    "plt.set_cmap(plt.cm.Paired)\n",
    "plt.pcolormesh(xx, yy, Z0)"
   ]
  },
  {
   "cell_type": "code",
   "execution_count": null,
   "metadata": {},
   "outputs": [],
   "source": []
  }
 ],
 "metadata": {
  "kernelspec": {
   "display_name": "Python 3",
   "language": "python",
   "name": "python3"
  },
  "language_info": {
   "codemirror_mode": {
    "name": "ipython",
    "version": 3
   },
   "file_extension": ".py",
   "mimetype": "text/x-python",
   "name": "python",
   "nbconvert_exporter": "python",
   "pygments_lexer": "ipython3",
   "version": "3.6.7"
  }
 },
 "nbformat": 4,
 "nbformat_minor": 2
}
