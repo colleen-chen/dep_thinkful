{
 "cells": [
  {
   "cell_type": "markdown",
   "metadata": {},
   "source": [
    "DRILL:\n",
    "Let's say we work at a credit card company and we're trying to figure out if people are \n",
    "going to pay their bills on time. We have everyone's purchases, split into four main \n",
    "categories: groceries, dining out, utilities, and entertainment. What are some ways \n",
    "you might use KNN to create this model? What aspects of KNN would be useful? Write up \n",
    "your thoughts in submit a link below."
   ]
  },
  {
   "cell_type": "markdown",
   "metadata": {},
   "source": [
    "Answer:\n",
    "    1st way:  Data set contains columns as 'groceries', 'dining out', 'utilities', and 'entertainment' normalized \n",
    "                to fractions of total.\n",
    "              Target set contains two categories as 'on-time', 'not-on-time', \n",
    "                \n",
    "              Based on KNN model, we can forecast whether one specific account will pay on-tome or not by looking \n",
    "              at the nearest data point in Data set\n",
    "              \n",
    "              The useful aspect:   the distance calculation. it can be \n",
    "                  (Z1 - x1)**2 + (Z2 - x2)**2 + (Z3 - x3)**2 + (Z4 - x4)**2\n",
    "                  In this case, weights are all 1.\n",
    "\n"
   ]
  },
  {
   "cell_type": "markdown",
   "metadata": {},
   "source": [
    "    2nd way:  we can change weights, like giving more weights to dining out & entertainment. Accounts, spending a\n",
    "                lot on 'dining out' & 'entertainment', will be more likely not to pay on time."
   ]
  },
  {
   "cell_type": "markdown",
   "metadata": {},
   "source": []
  }
 ],
 "metadata": {
  "kernelspec": {
   "display_name": "Python 3",
   "language": "python",
   "name": "python3"
  },
  "language_info": {
   "codemirror_mode": {
    "name": "ipython",
    "version": 3
   },
   "file_extension": ".py",
   "mimetype": "text/x-python",
   "name": "python",
   "nbconvert_exporter": "python",
   "pygments_lexer": "ipython3",
   "version": "3.6.7"
  }
 },
 "nbformat": 4,
 "nbformat_minor": 2
}
