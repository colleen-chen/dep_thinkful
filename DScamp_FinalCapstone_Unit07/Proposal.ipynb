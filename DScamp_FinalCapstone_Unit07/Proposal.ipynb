{
 "cells": [
  {
   "cell_type": "markdown",
   "metadata": {},
   "source": [
    "Before you dive into building out your final capstone, we’d like you to craft a proposal for your project. This should allow you to clarify what you’re looking to build, as well as get feedback on that objective before committing the full time it would take to build it.\n",
    "\n",
    "The proposal should be approximately one page long and answer the following questions:\n",
    "\n",
    "What is the problem you are attempting to solve?\n",
    "How is your solution valuable?\n",
    "What is your data source and how will you access it?\n",
    "What techniques from the course do you anticipate using?\n",
    "What do you anticipate to be the biggest challenge you’ll face?\n",
    "When answering these questions you should form a clear picture of the work you intend to do without having begun to build out the infrastructure to execute it yet. You may have written some code, done some initial scraping, or some initial analysis. Do not, however, start to actually build your product until it has been approved.\n",
    "\n",
    "When you’re ready to submit, use the link below and we’ll be in touc\n"
   ]
  },
  {
   "cell_type": "markdown",
   "metadata": {},
   "source": [
    "# Problem:  \n",
    "\n",
    "##               Detecting Cancer Metastases on Gigapixel Pathology Images\n",
    ">\n",
    "\n",
    "\n",
    "# The Value:\n",
    "\n",
    "##               It can diagnoze cancer.\n",
    ">\n",
    "\n",
    "\n",
    "\n",
    "# The data is quoted in a research paper. It is accessible to public\n",
    ">\n",
    "\n",
    "\n",
    "\n",
    "# The techniques:       \n",
    "\n",
    "##    Use Convolutional Neural Network, tensorflow and keras.\n",
    ">\n",
    "\n",
    "\n",
    "\n",
    "# The biggest challenges are:     \n",
    "\n",
    "##          get data, re-format data into a form which tensorflow can process\n",
    "                                        \n",
    "##          build CNN neural network\n",
    "                                          \n",
    "                                          \n",
    "\n",
    "\n",
    "\n"
   ]
  },
  {
   "cell_type": "markdown",
   "metadata": {},
   "source": []
  }
 ],
 "metadata": {
  "kernelspec": {
   "display_name": "Python 3",
   "language": "python",
   "name": "python3"
  },
  "language_info": {
   "codemirror_mode": {
    "name": "ipython",
    "version": 3
   },
   "file_extension": ".py",
   "mimetype": "text/x-python",
   "name": "python",
   "nbconvert_exporter": "python",
   "pygments_lexer": "ipython3",
   "version": "3.6.7"
  }
 },
 "nbformat": 4,
 "nbformat_minor": 2
}
