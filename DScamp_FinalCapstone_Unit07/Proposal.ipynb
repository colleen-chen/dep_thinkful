{
 "cells": [
  {
   "cell_type": "markdown",
   "metadata": {},
   "source": [
    "\n",
    "#  Proposal for last  capstone\n",
    "\n",
    "\n",
    "# The Problem:  \n",
    "\n",
    "    Identifying 100 different objects from Images.\n",
    "    \n",
    "\n",
    "# The Value:\n",
    "\n",
    "    The computer vision can be used in multiple areas, i.e. manufaturing, defense, healthcare and defense.\n",
    "\n",
    "\n",
    "# The goal:\n",
    "\n",
    "    Accomplish >70% accuracy, and small false positive. \n",
    "\n",
    "\n",
    "# The dataset     \n",
    "\n",
    "    A dataset of 100 different categories of objects' images, sized 32*32 pixels of color RBG. \n",
    "    The URL is https://keras.io/datasets/. Hundreds of thousands of image files are available for \n",
    "    both training set and testing set.\n",
    "\n",
    "\n",
    "# The techniques:       \n",
    "\n",
    "    The technologies involved will be common python libraries, like numpy, pandas, matplotlib, seaborn. \n",
    "    Additional libraries packages, i.e. tensorflow and keras, will be used extensively.\n",
    "    \n",
    "    Due to great demand for CPU and memory resources, google colab will be used to run training, testing \n",
    "    and  evaluation.\n",
    "\n",
    "    A special multi-layered deep convolutional neural network will be developed. The deep CNN will be \n",
    "    trained to capture different levels of abstraction. Several additional techniques will be applied \n",
    "    to increase precision, decrease false positive.\n",
    "    \n",
    "    1. Apply data augmentation. \n",
    "            \n",
    "            The image is rotated and left-right flipped to generate 8 orientations. \n",
    "            \n",
    "            \n",
    "    2. Regularization.\n",
    "    \n",
    "            Randomly drop units from neural network to avoid overfitting\n",
    "    \n",
    "            kernel regularization as aplying penalties on layer parameters during optimization.\n",
    "\n",
    "\n",
    "# The biggest challenges are:    \n",
    "\n",
    "    1) get data, re-format data into a form which tensorflow can process\n",
    "                                        \n",
    "    2) build deep convolutional neural network (CNN) to get high accuracy results, to avoid overfitting.\n",
    "                                               "
   ]
  }
 ],
 "metadata": {
  "kernelspec": {
   "display_name": "Python 3",
   "language": "python",
   "name": "python3"
  },
  "language_info": {
   "codemirror_mode": {
    "name": "ipython",
    "version": 3
   },
   "file_extension": ".py",
   "mimetype": "text/x-python",
   "name": "python",
   "nbconvert_exporter": "python",
   "pygments_lexer": "ipython3",
   "version": "3.6.7"
  }
 },
 "nbformat": 4,
 "nbformat_minor": 2
}
