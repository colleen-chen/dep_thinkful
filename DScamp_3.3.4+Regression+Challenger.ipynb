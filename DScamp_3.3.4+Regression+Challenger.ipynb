{
 "cells": [
  {
   "cell_type": "code",
   "execution_count": 108,
   "metadata": {},
   "outputs": [],
   "source": [
    "import numpy as np\n",
    "import pandas as pd\n",
    "import math\n",
    "import seaborn as sns\n",
    "sns.set_style('white')\n",
    "from matplotlib import pyplot as plt\n",
    "%matplotlib inline\n",
    "import statsmodels.api as sm\n",
    "import sklearn\n",
    "from sklearn import linear_model\n",
    "from sklearn import preprocessing\n",
    "from sklearn.linear_model import LogisticRegression "
   ]
  },
  {
   "cell_type": "code",
   "execution_count": 109,
   "metadata": {},
   "outputs": [],
   "source": [
    "# read in data\n",
    "df = pd.read_csv(\n",
    "    '../data-201-resources-master/New_York_offenses/NEW_YORK-Offenses_Known_to_Law_Enforcement_by_City_2013 - 13tbl8ny_clean.csv',\n",
    "    header=0)"
   ]
  },
  {
   "cell_type": "code",
   "execution_count": 110,
   "metadata": {},
   "outputs": [
    {
     "name": "stdout",
     "output_type": "stream",
     "text": [
      "Index(['City', 'Population', 'Violent\\ncrime',\n",
      "       'Murder and\\nnonnegligent\\nmanslaughter', 'Rape\\n(legacy\\ndefinition)2',\n",
      "       'Robbery', 'Aggravated\\nassault', 'Property\\ncrime', 'Burglary',\n",
      "       'Larceny-\\ntheft', 'Motor\\nvehicle\\ntheft', 'Arson3', 'HighLow-Crime'],\n",
      "      dtype='object')\n"
     ]
    }
   ],
   "source": [
    "print(df.columns)"
   ]
  },
  {
   "cell_type": "code",
   "execution_count": 111,
   "metadata": {
    "scrolled": true
   },
   "outputs": [],
   "source": [
    "# clean data\n",
    "#df_data = df.drop(df.columns[4], axis=1)\n",
    "df_data = df.copy()\n",
    "df_data.rename(columns = {'Violent\\ncrime': 'Violent-Crime', \n",
    "                                    'Murder and\\nnonnegligent\\nmanslaughter': 'Murder',\n",
    "                                    'Rape\\n(legacy\\ndefinition)2': 'Rape',\n",
    "                                    'Aggravated\\nassault': 'Assault',\n",
    "                                    'Property\\ncrime': 'Property-Crime',\n",
    "                                    'Larceny-\\ntheft': 'Theft',\n",
    "                                    'Motor\\nvehicle\\ntheft': 'MV-theft'}, inplace=True)\n",
    "# remove outliner\n",
    "#df_data.drop(index='New York', level=1, inplace=True)\n",
    "df_data['HighLow-Crime'] = df_data['HighLow-Crime'].apply(lambda x: 1 if x == 'h' else 0)"
   ]
  },
  {
   "cell_type": "code",
   "execution_count": 112,
   "metadata": {},
   "outputs": [
    {
     "name": "stdout",
     "output_type": "stream",
     "text": [
      "Index(['City', 'Population', 'Violent-Crime', 'Murder', 'Rape', 'Robbery',\n",
      "       'Assault', 'Property-Crime', 'Burglary', 'Theft', 'MV-theft', 'Arson3',\n",
      "       'HighLow-Crime'],\n",
      "      dtype='object')\n"
     ]
    }
   ],
   "source": [
    "print(df_data.columns)"
   ]
  },
  {
   "cell_type": "code",
   "execution_count": 113,
   "metadata": {},
   "outputs": [
    {
     "data": {
      "text/html": [
       "<div>\n",
       "<style scoped>\n",
       "    .dataframe tbody tr th:only-of-type {\n",
       "        vertical-align: middle;\n",
       "    }\n",
       "\n",
       "    .dataframe tbody tr th {\n",
       "        vertical-align: top;\n",
       "    }\n",
       "\n",
       "    .dataframe thead th {\n",
       "        text-align: right;\n",
       "    }\n",
       "</style>\n",
       "<table border=\"1\" class=\"dataframe\">\n",
       "  <thead>\n",
       "    <tr style=\"text-align: right;\">\n",
       "      <th></th>\n",
       "      <th>City</th>\n",
       "      <th>Population</th>\n",
       "      <th>Violent-Crime</th>\n",
       "      <th>Murder</th>\n",
       "      <th>Rape</th>\n",
       "      <th>Robbery</th>\n",
       "      <th>Assault</th>\n",
       "      <th>Property-Crime</th>\n",
       "      <th>Burglary</th>\n",
       "      <th>Theft</th>\n",
       "      <th>MV-theft</th>\n",
       "      <th>Arson3</th>\n",
       "      <th>HighLow-Crime</th>\n",
       "    </tr>\n",
       "  </thead>\n",
       "  <tbody>\n",
       "    <tr>\n",
       "      <th>0</th>\n",
       "      <td>Adams Village</td>\n",
       "      <td>1861</td>\n",
       "      <td>0</td>\n",
       "      <td>0</td>\n",
       "      <td>0</td>\n",
       "      <td>0</td>\n",
       "      <td>0</td>\n",
       "      <td>12</td>\n",
       "      <td>2</td>\n",
       "      <td>10</td>\n",
       "      <td>0</td>\n",
       "      <td>0.0</td>\n",
       "      <td>0</td>\n",
       "    </tr>\n",
       "    <tr>\n",
       "      <th>1</th>\n",
       "      <td>Addison Town and Village</td>\n",
       "      <td>2577</td>\n",
       "      <td>3</td>\n",
       "      <td>0</td>\n",
       "      <td>0</td>\n",
       "      <td>0</td>\n",
       "      <td>3</td>\n",
       "      <td>24</td>\n",
       "      <td>3</td>\n",
       "      <td>20</td>\n",
       "      <td>1</td>\n",
       "      <td>0.0</td>\n",
       "      <td>0</td>\n",
       "    </tr>\n",
       "    <tr>\n",
       "      <th>2</th>\n",
       "      <td>Akron Village</td>\n",
       "      <td>2846</td>\n",
       "      <td>3</td>\n",
       "      <td>0</td>\n",
       "      <td>0</td>\n",
       "      <td>0</td>\n",
       "      <td>3</td>\n",
       "      <td>16</td>\n",
       "      <td>1</td>\n",
       "      <td>15</td>\n",
       "      <td>0</td>\n",
       "      <td>0.0</td>\n",
       "      <td>0</td>\n",
       "    </tr>\n",
       "    <tr>\n",
       "      <th>3</th>\n",
       "      <td>Albany</td>\n",
       "      <td>97956</td>\n",
       "      <td>791</td>\n",
       "      <td>8</td>\n",
       "      <td>30</td>\n",
       "      <td>227</td>\n",
       "      <td>526</td>\n",
       "      <td>4090</td>\n",
       "      <td>705</td>\n",
       "      <td>3243</td>\n",
       "      <td>142</td>\n",
       "      <td>NaN</td>\n",
       "      <td>1</td>\n",
       "    </tr>\n",
       "    <tr>\n",
       "      <th>4</th>\n",
       "      <td>Albion Village</td>\n",
       "      <td>6388</td>\n",
       "      <td>23</td>\n",
       "      <td>0</td>\n",
       "      <td>3</td>\n",
       "      <td>4</td>\n",
       "      <td>16</td>\n",
       "      <td>223</td>\n",
       "      <td>53</td>\n",
       "      <td>165</td>\n",
       "      <td>5</td>\n",
       "      <td>NaN</td>\n",
       "      <td>1</td>\n",
       "    </tr>\n",
       "  </tbody>\n",
       "</table>\n",
       "</div>"
      ],
      "text/plain": [
       "                       City  Population  Violent-Crime  Murder  Rape  Robbery  \\\n",
       "0             Adams Village        1861              0       0     0        0   \n",
       "1  Addison Town and Village        2577              3       0     0        0   \n",
       "2             Akron Village        2846              3       0     0        0   \n",
       "3                    Albany       97956            791       8    30      227   \n",
       "4            Albion Village        6388             23       0     3        4   \n",
       "\n",
       "   Assault  Property-Crime  Burglary  Theft  MV-theft  Arson3  HighLow-Crime  \n",
       "0        0              12         2     10         0     0.0              0  \n",
       "1        3              24         3     20         1     0.0              0  \n",
       "2        3              16         1     15         0     0.0              0  \n",
       "3      526            4090       705   3243       142     NaN              1  \n",
       "4       16             223        53    165         5     NaN              1  "
      ]
     },
     "execution_count": 113,
     "metadata": {},
     "output_type": "execute_result"
    }
   ],
   "source": [
    "df_data.head()"
   ]
  },
  {
   "cell_type": "code",
   "execution_count": 114,
   "metadata": {},
   "outputs": [
    {
     "name": "stdout",
     "output_type": "stream",
     "text": [
      "Coefficiencies: \n",
      "[[ 0.50807485  1.68862295 -0.33569832 -0.44443187 -0.4004179   0.06936086\n",
      "   0.01916634  0.00628777  0.04390675  0.905041  ]]\n",
      "[-10.73541829]\n",
      "\n",
      " Accuracy by admission status\n",
      "HighLow-Crime    0    1\n",
      "row_0                  \n",
      "0              179    0\n",
      "1                0  168\n",
      "\n",
      " Percentage accuracy\n",
      "1.0\n"
     ]
    },
    {
     "name": "stderr",
     "output_type": "stream",
     "text": [
      "C:\\ProgramData\\Anaconda3\\lib\\site-packages\\sklearn\\linear_model\\logistic.py:432: FutureWarning: Default solver will be changed to 'lbfgs' in 0.22. Specify a solver to silence this warning.\n",
      "  FutureWarning)\n"
     ]
    }
   ],
   "source": [
    "# Vanilla Binary logistic regression\n",
    "logReg = LogisticRegression(C=1e9)\n",
    "\n",
    "X_statsmod = df_data.drop('HighLow-Crime', axis=1)\n",
    "X_statsmod.drop(['City', 'Population'], axis=1, inplace=True)\n",
    "X_statsmod.fillna(value=0, inplace=True)\n",
    "Y_statsmod = df_data['HighLow-Crime']\n",
    "# fit the model\n",
    "logit = logReg.fit(X_statsmod, Y_statsmod)\n",
    "print('Coefficiencies: ')\n",
    "print(logit.coef_)\n",
    "print(logit.intercept_)\n",
    "\n",
    "Y_predict = logReg.predict(X_statsmod)\n",
    "print('\\n Accuracy by admission status')\n",
    "print(pd.crosstab(Y_predict, Y_statsmod))\n",
    "\n",
    "print('\\n Percentage accuracy')\n",
    "print(logReg.score(X_statsmod, Y_statsmod))\n"
   ]
  },
  {
   "cell_type": "code",
   "execution_count": null,
   "metadata": {},
   "outputs": [],
   "source": []
  },
  {
   "cell_type": "code",
   "execution_count": 123,
   "metadata": {},
   "outputs": [
    {
     "name": "stdout",
     "output_type": "stream",
     "text": [
      "\n",
      "R-squared simple model:\n",
      "0.10756790841182762\n"
     ]
    }
   ],
   "source": [
    "# Ridge logistic regression\n",
    "# Define the training and test sets\n",
    "trainsize = int(df_data.shape[0] / 2)\n",
    "df_train = df_data.iloc[:trainsize, :].copy()\n",
    "df_test = df_data.iloc[trainsize:, :].copy()\n",
    "\n",
    "linReg_Ridge = linear_model.Ridge(alpha=0.5, fit_intercept=False)\n",
    "X_train = df_train.drop('HighLow-Crime', axis=1)\n",
    "X_train.drop(['City', 'Population'], axis=1, inplace=True)\n",
    "X_train.fillna(value=0, inplace=True)\n",
    "Y_train = df_train['HighLow-Crime']\n",
    "linReg_Ridge.fit(X_train, Y_train)\n",
    "print('\\nR-squared simple model:')\n",
    "print(linReg_Ridge.score(X_train, Y_train))\n"
   ]
  },
  {
   "cell_type": "code",
   "execution_count": 124,
   "metadata": {},
   "outputs": [
    {
     "name": "stdout",
     "output_type": "stream",
     "text": [
      "\n",
      "R-squared simple test model:\n",
      "0.18383274429054086\n"
     ]
    }
   ],
   "source": [
    "X_test = df_test.drop('HighLow-Crime', axis=1)\n",
    "X_test.drop(['City', 'Population'], axis=1, inplace=True)\n",
    "X_test.fillna(value=0, inplace=True)\n",
    "Y_test = df_test['HighLow-Crime']\n",
    "linReg_Ridge.fit(X_test, Y_test)\n",
    "print('\\nR-squared simple test model:')\n",
    "print(linReg_Ridge.score(X_test, Y_test))"
   ]
  },
  {
   "cell_type": "code",
   "execution_count": 125,
   "metadata": {},
   "outputs": [
    {
     "name": "stdout",
     "output_type": "stream",
     "text": [
      "R² for the Lasso model :\n",
      "0.2672766894548967\n"
     ]
    },
    {
     "name": "stderr",
     "output_type": "stream",
     "text": [
      "C:\\ProgramData\\Anaconda3\\lib\\site-packages\\sklearn\\linear_model\\coordinate_descent.py:491: ConvergenceWarning: Objective did not converge. You might want to increase the number of iterations. Fitting data with very small alpha may cause precision problems.\n",
      "  ConvergenceWarning)\n"
     ]
    }
   ],
   "source": [
    "# Lasso logistic regression\n",
    "linReg_Lasso = linear_model.Lasso(alpha=0.25)\n",
    "linReg_Lasso.fit(X_train, Y_train)\n",
    "print('R² for the Lasso model :')\n",
    "print(linReg_Lasso.score(X_train, Y_train))\n"
   ]
  },
  {
   "cell_type": "code",
   "execution_count": 126,
   "metadata": {},
   "outputs": [
    {
     "name": "stdout",
     "output_type": "stream",
     "text": [
      "R² for the Lasso model test sample:\n",
      "0.3498159073646857\n"
     ]
    }
   ],
   "source": [
    "linReg_Lasso.fit(X_test, Y_test)\n",
    "print('R² for the Lasso model test sample:')\n",
    "print(linReg_Lasso.score(X_test, Y_test))"
   ]
  },
  {
   "cell_type": "code",
   "execution_count": null,
   "metadata": {},
   "outputs": [],
   "source": []
  }
 ],
 "metadata": {
  "kernelspec": {
   "display_name": "Python 3",
   "language": "python",
   "name": "python3"
  },
  "language_info": {
   "codemirror_mode": {
    "name": "ipython",
    "version": 3
   },
   "file_extension": ".py",
   "mimetype": "text/x-python",
   "name": "python",
   "nbconvert_exporter": "python",
   "pygments_lexer": "ipython3",
   "version": "3.6.7"
  }
 },
 "nbformat": 4,
 "nbformat_minor": 2
}
