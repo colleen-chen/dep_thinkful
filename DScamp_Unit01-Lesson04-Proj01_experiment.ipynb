{
 "cells": [
  {
   "cell_type": "markdown",
   "metadata": {},
   "source": [
    "# A/B tests\n",
    "\n",
    "1) Does a new supplement help people sleep better?\n",
    "2) Will new uniforms help a gym's business?\n",
    "3) Will a new homepage improve my online exotic pet rental business?\n",
    "4) If I put 'please read' in the email subject will more people read my emails?\n",
    "\n"
   ]
  },
  {
   "cell_type": "markdown",
   "metadata": {},
   "source": [
    "Question 1:         Does a new supplement help people sleep better?\n",
    "\n",
    "Answers: (1)\n",
    "\n",
    "     a.) Two versions of samples:       one control sample of 500 people, randomly selected according to genders, \n",
    "                                        ages, occupations. This group of people do not take supplement.\n",
    "                                        the test sample of 500 people, randomly selected according to genders, ages, \n",
    "                                        occupations. This group of people do take supplement.\n",
    "                                        \n",
    "                                        Both group of people will be monitered for their sleep for 30 days. The metric includes\n",
    "                                        i) hours of sleep each day\n",
    "                                        ii) freshness after sleep\n",
    "                                        \n",
    "     b.) hypothesis:       I expect that new supplement help people sleep better\n",
    "     \n",
    "     c.) Outcomes:         mean of sleep hours is longer for group B, comparing to group A, statistically significant.\n",
    "                           group B people feel fresher than group A, statistically significant\n"
   ]
  },
  {
   "cell_type": "markdown",
   "metadata": {},
   "source": [
    "Question 2:         Will new uniforms help a gym's business?\n",
    "\n",
    "Answer (2):\n",
    "\n",
    "    a.) Two versions of samples:         Selecting 30 days window to measure gym enroll numbers.\n",
    "                                         The control group consists of gym data before new uniforms. The test group \n",
    "                                         consists of gym data after new uniforms.\n",
    "                                         \n",
    "                                         The measurement metric for both group include\n",
    "                                         \n",
    "                                         i) number of new enrollments in the period\n",
    "                                         ii) number of cancellations in the period\n",
    "                                         \n",
    "    b.) hypothesis:        I expect that new uniforms do not improve gym business.\n",
    "    \n",
    "    c.) Outcomes:          mean(new_enrollment) for group B is the same as that of group A at 90% confidence level.\n"
   ]
  },
  {
   "cell_type": "markdown",
   "metadata": {},
   "source": [
    "Questions 3:         Will a new homepage improve my online exotic pet rental business?\n",
    "\n",
    "Answer (3):\n",
    "\n",
    "    a.) Two versions of sample:          Selecting 30 days window to measure pet rental revenue income.\n",
    "                                         The control group A consists of data before new homepage. The test group B\n",
    "                                         consists of data after new homepage.\n",
    "\n",
    "    b.) hypothesis:        I expect that new homepage increase pet revenue income\n",
    "    \n",
    "    c.) Outcomes:          mean(revenue) of group B is greater than mean(revenue) of group A at 90% confidence level.\n"
   ]
  },
  {
   "cell_type": "markdown",
   "metadata": {},
   "source": [
    "Question 4:          If I put 'please read' in the email subject will more people read my emails?\n",
    "\n",
    "Answer (4): \n",
    "\n",
    "    a.) Two versions of sample:           Selecting 7 days email without \"please read\" as control sample A, then\n",
    "                                          changing the way that all email are sent out with \"please read\" in the \n",
    "                                          subject for 7 days. Randomly selecting the same number of email in second \n",
    "                                          group as the control group. It is test group B.\n",
    "                                          \n",
    "    b.) hypothesis:        I expect the fraction of email read after putting \"please read\" gets higher. \n",
    "\n",
    "    c.) Outcomes:          fraction of email read over all email is higher in group B, comparing to group A. \n"
   ]
  }
 ],
 "metadata": {
  "kernelspec": {
   "display_name": "Python 3",
   "language": "python",
   "name": "python3"
  },
  "language_info": {
   "codemirror_mode": {
    "name": "ipython",
    "version": 3
   },
   "file_extension": ".py",
   "mimetype": "text/x-python",
   "name": "python",
   "nbconvert_exporter": "python",
   "pygments_lexer": "ipython3",
   "version": "3.6.7"
  }
 },
 "nbformat": 4,
 "nbformat_minor": 2
}
