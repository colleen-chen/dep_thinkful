{
 "cells": [
  {
   "cell_type": "markdown",
   "metadata": {},
   "source": [
    "For each of the following, indicate the best question type to use and why.\n",
    "\n",
    "    Age\n",
    "    Gender\n",
    "    Income\n",
    "    Opinions about dish soap\n",
    "    Brand of dish soap used\n",
    "    Preference for dish soap brand (Cleany, Sudsy, DeGreaser, Pinesoft)\n",
    "    Positive vs negative feelings about dish soap"
   ]
  },
  {
   "cell_type": "markdown",
   "metadata": {},
   "source": [
    "1. Age             - Ranking\n",
    "    \n",
    "    Age can be filled into different categories, i.e. kid, teenage, young adult, adult, etc. It makes age a good candidate for ranking. \n",
    "     "
   ]
  },
  {
   "cell_type": "markdown",
   "metadata": {},
   "source": [
    "2. Gender          - Multiple choice\n",
    "\n",
    "    Gender only fits into one of two categories. It makes gender a good candidate for ranking."
   ]
  },
  {
   "cell_type": "markdown",
   "metadata": {},
   "source": [
    "3. Income          - Ranking\n",
    "\n",
    "    Income can be filled into different categories, i.e. below poverty, poverty, self-sustain, middle class,\n",
    "    rich, millionare, billionare. It makes income a good candidate for ranking.\n",
    "\n"
   ]
  },
  {
   "cell_type": "markdown",
   "metadata": {},
   "source": [
    "4. Opinion about dish soap             - write-in, free response\n",
    "\n",
    "    It is about opinions\n"
   ]
  },
  {
   "cell_type": "markdown",
   "metadata": {},
   "source": [
    "5. Brand of dish soap used             - rating\n",
    "\n"
   ]
  },
  {
   "cell_type": "markdown",
   "metadata": {},
   "source": [
    "6. Preference for dish soap brand (Cleany, Sudsy, DeGreaser, Pinesoft)          -rating\n"
   ]
  },
  {
   "cell_type": "markdown",
   "metadata": {},
   "source": [
    "7. Positive vs negative feelings about dish soap       - multiple choice\n",
    "\n"
   ]
  },
  {
   "cell_type": "code",
   "execution_count": null,
   "metadata": {},
   "outputs": [],
   "source": []
  }
 ],
 "metadata": {
  "kernelspec": {
   "display_name": "Python 3",
   "language": "python",
   "name": "python3"
  },
  "language_info": {
   "codemirror_mode": {
    "name": "ipython",
    "version": 3
   },
   "file_extension": ".py",
   "mimetype": "text/x-python",
   "name": "python",
   "nbconvert_exporter": "python",
   "pygments_lexer": "ipython3",
   "version": "3.6.7"
  }
 },
 "nbformat": 4,
 "nbformat_minor": 2
}
