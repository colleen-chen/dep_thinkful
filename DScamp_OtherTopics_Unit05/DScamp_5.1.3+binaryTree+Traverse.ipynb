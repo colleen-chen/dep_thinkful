{
 "cells": [
  {
   "cell_type": "code",
   "execution_count": 6,
   "metadata": {},
   "outputs": [],
   "source": [
    "import random"
   ]
  },
  {
   "cell_type": "code",
   "execution_count": 2,
   "metadata": {},
   "outputs": [],
   "source": [
    "class Node:\n",
    "    def __init__(self, value):\n",
    "        self.left = None\n",
    "        self.right = None\n",
    "        self.value = value     "
   ]
  },
  {
   "cell_type": "code",
   "execution_count": 3,
   "metadata": {},
   "outputs": [],
   "source": [
    "def list_at_depth(root, ndepth):\n",
    "    results = []\n",
    "    if ndepth == 0:\n",
    "        results.append(root)\n",
    "        return results\n",
    "    \n",
    "    lst_current = list_at_depth(root, (ndepth-1))\n",
    "    for item in lst_current:\n",
    "        if item.left != None:\n",
    "            results.append(item.left)\n",
    "        if item.right != None:\n",
    "            results.append(item.right)\n",
    "    \n",
    "    return results"
   ]
  },
  {
   "cell_type": "code",
   "execution_count": 4,
   "metadata": {},
   "outputs": [],
   "source": [
    "def traverse_breadth(root):\n",
    "    results = []\n",
    "    results.append(root.value)\n",
    "    ndepth = 1\n",
    "    while len(list_at_depth(root, ndepth)) > 0:\n",
    "        lst = list_at_depth(root, ndepth)\n",
    "        for item in lst:\n",
    "            results.append(item.value)\n",
    "\n",
    "        ndepth += 1\n",
    "        \n",
    "    return results"
   ]
  },
  {
   "cell_type": "code",
   "execution_count": 7,
   "metadata": {},
   "outputs": [
    {
     "name": "stdout",
     "output_type": "stream",
     "text": [
      "[290, 172, 219, 365, 101, 273, 179, 241, 132, 481, 292, 72, 376, 303, 417]\n",
      "[290, 172, 219, 365, 101, 273, 179, 241, 132, 481, 292, 72, 376, 303, 417]\n"
     ]
    }
   ],
   "source": [
    "# build a binary tree\n",
    "num_randoms = random.sample(range(500), 15)\n",
    "\n",
    "mytree = Node(num_randoms[0])\n",
    "mytree.left = Node(num_randoms[1])\n",
    "mytree.right = Node(num_randoms[2])\n",
    "mytree.left.left = Node(num_randoms[3])\n",
    "mytree.left.right = Node(num_randoms[4])\n",
    "mytree.right.left = Node(num_randoms[5])\n",
    "mytree.right.right = Node(num_randoms[6])\n",
    "mytree.left.left.left = Node(num_randoms[7])\n",
    "mytree.left.left.right = Node(num_randoms[8])\n",
    "mytree.left.right.left = Node(num_randoms[9])\n",
    "mytree.left.right.right = Node(num_randoms[10])\n",
    "mytree.right.left.left = Node(num_randoms[11])\n",
    "mytree.right.left.right = Node(num_randoms[12])\n",
    "mytree.right.right.left = Node(num_randoms[13])\n",
    "mytree.right.right.right = Node(num_randoms[14])\n",
    "\n",
    "print(num_randoms)\n",
    "print(traverse_breadth(mytree))"
   ]
  },
  {
   "cell_type": "code",
   "execution_count": null,
   "metadata": {},
   "outputs": [],
   "source": []
  }
 ],
 "metadata": {
  "kernelspec": {
   "display_name": "Python 3",
   "language": "python",
   "name": "python3"
  },
  "language_info": {
   "codemirror_mode": {
    "name": "ipython",
    "version": 3
   },
   "file_extension": ".py",
   "mimetype": "text/x-python",
   "name": "python",
   "nbconvert_exporter": "python",
   "pygments_lexer": "ipython3",
   "version": "3.6.7"
  }
 },
 "nbformat": 4,
 "nbformat_minor": 2
}
