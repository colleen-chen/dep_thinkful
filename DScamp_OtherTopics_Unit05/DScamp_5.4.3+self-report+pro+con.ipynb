{
 "cells": [
  {
   "cell_type": "markdown",
   "metadata": {},
   "source": [
    "##When to use surveys. State whether a survey would be the best option for answering each of the following questions.\n",
    "\n"
   ]
  },
  {
   "cell_type": "markdown",
   "metadata": {},
   "source": [
    "1. Popularity of various Uber drivers.\n",
    "\n",
    "    No. To measure the rideship rate of each uber driver can be better prediction of popularity than a survey\n",
    "    "
   ]
  },
  {
   "cell_type": "markdown",
   "metadata": {},
   "source": [
    "2. A grocery store wants to know how much people like strawberry, chocolate, and vanilla ice cream.\n",
    "\n",
    "    No. To measure the sales of each ice cream can answer the question.\n"
   ]
  },
  {
   "cell_type": "markdown",
   "metadata": {},
   "source": [
    "3. Trojan wants to know whether their condoms are more popular among straight people or gay people.\n",
    "\n",
    "    Yes. Survey can be used here, because the topic is quite private.\n"
   ]
  },
  {
   "cell_type": "markdown",
   "metadata": {},
   "source": [
    "4. rental rates for HappyCars have increased by 30%, which is quite unusual. You want to find out \n",
    "    why this is happening and how to keep the increase going.\n",
    "    \n",
    "    Yes. complex issues need many data points to help to solve"
   ]
  },
  {
   "cell_type": "markdown",
   "metadata": {},
   "source": [
    "5. Assessing the success rate of a new advertising campaign.\n",
    "\n",
    "    No. just measuring results can help to decide if the advertiseing campaign succeed.\n"
   ]
  },
  {
   "cell_type": "markdown",
   "metadata": {},
   "source": [
    "6. Measuring the effect of nurse/patient ratio on patient recovery rates in hospital wards.\n",
    "\n",
    "    No. measuring the results with diferent nurse/patient ratios.\n",
    "\n"
   ]
  },
  {
   "cell_type": "code",
   "execution_count": null,
   "metadata": {},
   "outputs": [],
   "source": []
  }
 ],
 "metadata": {
  "kernelspec": {
   "display_name": "Python 3",
   "language": "python",
   "name": "python3"
  },
  "language_info": {
   "codemirror_mode": {
    "name": "ipython",
    "version": 3
   },
   "file_extension": ".py",
   "mimetype": "text/x-python",
   "name": "python",
   "nbconvert_exporter": "python",
   "pygments_lexer": "ipython3",
   "version": "3.6.7"
  }
 },
 "nbformat": 4,
 "nbformat_minor": 2
}
