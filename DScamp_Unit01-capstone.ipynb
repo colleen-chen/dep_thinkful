{
 "cells": [
  {
   "cell_type": "markdown",
   "metadata": {},
   "source": [
    "## Unit 1 capstone project\n",
    "\n"
   ]
  },
  {
   "cell_type": "code",
   "execution_count": 49,
   "metadata": {},
   "outputs": [],
   "source": [
    "import numpy as np\n",
    "import pandas as pd\n",
    "import seaborn as sns\n",
    "from matplotlib import pyplot as plt\n",
    "%matplotlib inline"
   ]
  },
  {
   "cell_type": "code",
   "execution_count": 50,
   "metadata": {},
   "outputs": [],
   "source": [
    "def retrieveNonNegative(x):\n",
    "    return (x >= 0)"
   ]
  },
  {
   "cell_type": "code",
   "execution_count": 51,
   "metadata": {},
   "outputs": [],
   "source": [
    "def retrieve_NonNegative_list(lst):\n",
    "    new_list = []\n",
    "    for x in lst:\n",
    "        new_list.append(x >= 0)\n",
    "    return new_list"
   ]
  },
  {
   "cell_type": "code",
   "execution_count": 52,
   "metadata": {},
   "outputs": [],
   "source": [
    "def dataFrame_filter_row(df, colname, func):\n",
    "    print(df[colname])\n",
    "    print(func(df[colname]))\n",
    "    filter_list = func(df[colname])\n",
    "    new_df = df.loc[(filter_list)]\n",
    "    return new_df"
   ]
  },
  {
   "cell_type": "markdown",
   "metadata": {},
   "source": [
    "##  read in data\n",
    ">"
   ]
  },
  {
   "cell_type": "code",
   "execution_count": 59,
   "metadata": {},
   "outputs": [],
   "source": [
    "df_customer = pd.read_csv(\"../data-201-resources-master/customers_data.csv\")"
   ]
  },
  {
   "cell_type": "code",
   "execution_count": 60,
   "metadata": {},
   "outputs": [
    {
     "data": {
      "text/html": [
       "<div>\n",
       "<style scoped>\n",
       "    .dataframe tbody tr th:only-of-type {\n",
       "        vertical-align: middle;\n",
       "    }\n",
       "\n",
       "    .dataframe tbody tr th {\n",
       "        vertical-align: top;\n",
       "    }\n",
       "\n",
       "    .dataframe thead th {\n",
       "        text-align: right;\n",
       "    }\n",
       "</style>\n",
       "<table border=\"1\" class=\"dataframe\">\n",
       "  <thead>\n",
       "    <tr style=\"text-align: right;\">\n",
       "      <th></th>\n",
       "      <th>Unnamed: 0</th>\n",
       "      <th>purch_amt</th>\n",
       "      <th>gender</th>\n",
       "      <th>card_on_file</th>\n",
       "      <th>age</th>\n",
       "      <th>days_since_last_purch</th>\n",
       "      <th>loyalty</th>\n",
       "    </tr>\n",
       "  </thead>\n",
       "  <tbody>\n",
       "    <tr>\n",
       "      <th>0</th>\n",
       "      <td>0</td>\n",
       "      <td>19.58</td>\n",
       "      <td>male</td>\n",
       "      <td>no</td>\n",
       "      <td>31.0</td>\n",
       "      <td>35.0</td>\n",
       "      <td>False</td>\n",
       "    </tr>\n",
       "    <tr>\n",
       "      <th>1</th>\n",
       "      <td>1</td>\n",
       "      <td>65.16</td>\n",
       "      <td>male</td>\n",
       "      <td>yes</td>\n",
       "      <td>23.0</td>\n",
       "      <td>61.0</td>\n",
       "      <td>False</td>\n",
       "    </tr>\n",
       "    <tr>\n",
       "      <th>2</th>\n",
       "      <td>2</td>\n",
       "      <td>40.60</td>\n",
       "      <td>female</td>\n",
       "      <td>no</td>\n",
       "      <td>36.0</td>\n",
       "      <td>49.0</td>\n",
       "      <td>False</td>\n",
       "    </tr>\n",
       "    <tr>\n",
       "      <th>3</th>\n",
       "      <td>3</td>\n",
       "      <td>38.01</td>\n",
       "      <td>male</td>\n",
       "      <td>yes</td>\n",
       "      <td>47.0</td>\n",
       "      <td>57.0</td>\n",
       "      <td>False</td>\n",
       "    </tr>\n",
       "  </tbody>\n",
       "</table>\n",
       "</div>"
      ],
      "text/plain": [
       "   Unnamed: 0  purch_amt  gender card_on_file   age  days_since_last_purch  \\\n",
       "0           0      19.58    male           no  31.0                   35.0   \n",
       "1           1      65.16    male          yes  23.0                   61.0   \n",
       "2           2      40.60  female           no  36.0                   49.0   \n",
       "3           3      38.01    male          yes  47.0                   57.0   \n",
       "\n",
       "   loyalty  \n",
       "0    False  \n",
       "1    False  \n",
       "2    False  \n",
       "3    False  "
      ]
     },
     "execution_count": 60,
     "metadata": {},
     "output_type": "execute_result"
    }
   ],
   "source": [
    "df_customer.head(4)"
   ]
  },
  {
   "cell_type": "markdown",
   "metadata": {},
   "source": [
    "## clean negative values, NA,  until values look reasonable.\n",
    "\n",
    ">"
   ]
  },
  {
   "cell_type": "code",
   "execution_count": 61,
   "metadata": {},
   "outputs": [
    {
     "name": "stdout",
     "output_type": "stream",
     "text": [
      "removing negative age......\n",
      "removing negative purchase amount......\n"
     ]
    }
   ],
   "source": [
    "print('removing negative age......')\n",
    "df_temp = df_customer[retrieve_NonNegative_list(df_customer['age'])] \n",
    "print('removing negative purchase amount......')                         \n",
    "df = df_temp[retrieve_NonNegative_list(df_temp['purch_amt'])]"
   ]
  },
  {
   "cell_type": "markdown",
   "metadata": {},
   "source": [
    "## verify the data are in the reasonable range \n",
    ">"
   ]
  },
  {
   "cell_type": "code",
   "execution_count": 62,
   "metadata": {},
   "outputs": [
    {
     "name": "stdout",
     "output_type": "stream",
     "text": [
      "The gender\n",
      "['female' 'male']\n",
      "The card_on_file\n",
      "['no' 'yes']\n",
      "The bool values of loyalty\n",
      "[False  True]\n",
      "The minimum purchase amount is 0.01\n",
      "The maximum purchase amount is 142.2\n",
      "The minimum age is -0.0\n",
      "The maximum age is 71.0\n",
      "The minimum days_since_last_purch is -9.0\n",
      "The maximum days_since_last_purch is 125.0\n"
     ]
    }
   ],
   "source": [
    "print('The gender')\n",
    "print(df['gender'].sort_values(ascending=True).unique())\n",
    "print('The card_on_file')\n",
    "print(df['card_on_file'].sort_values(ascending=True).unique())\n",
    "print('The bool values of loyalty')\n",
    "print(df['loyalty'].sort_values(ascending=True).unique())\n",
    "print('The minimum purchase amount is {}'.format(df['purch_amt'].sort_values(ascending=True).min()))\n",
    "print('The maximum purchase amount is {}'.format(df['purch_amt'].sort_values(ascending=True).max()))\n",
    "print('The minimum age is {}'.format(df['age'].sort_values(ascending=True).min()))\n",
    "print('The maximum age is {}'.format(df['age'].sort_values(ascending=True).max()))\n",
    "print('The minimum days_since_last_purch is {}'.format(df['days_since_last_purch'].sort_values(ascending=True).min()))\n",
    "print('The maximum days_since_last_purch is {}'.format(df['days_since_last_purch'].sort_values(ascending=True).max()))"
   ]
  },
  {
   "cell_type": "markdown",
   "metadata": {},
   "source": [
    "## during rollout, the data is collected unbiased over gender and age.\n",
    "\n",
    "     The first plots show the purchase amount distribution breaking by gender. Statistically\n",
    "     the distributions are similar.\n",
    "     \n",
    "     The second plots show distribution of averaged purchase amount over age. It is pretty flat,\n",
    "     no clear bias for specific age group.\n",
    "     "
   ]
  },
  {
   "cell_type": "code",
   "execution_count": 63,
   "metadata": {},
   "outputs": [
    {
     "data": {
      "text/plain": [
       "<Figure size 1440x1080 with 0 Axes>"
      ]
     },
     "metadata": {},
     "output_type": "display_data"
    },
    {
     "data": {
      "image/png": "[encoded data removed]",
      "text/plain": [
       "<Figure size 432x216 with 2 Axes>"
      ]
     },
     "metadata": {},
     "output_type": "display_data"
    }
   ],
   "source": [
    "plt.figure(figsize=(20,15))\n",
    "sns.set(style=\"ticks\")\n",
    "graph = sns.FacetGrid(df, col=\"gender\")\n",
    "graph.map(plt.hist, \"purch_amt\", color=\"red\")\n",
    "plt.subplots_adjust(top=0.8)\n",
    "graph.set_axis_labels(\"Purchase Amount in Dollar\")\n",
    "plt.suptitle(\"Plot 1: Purchase By Gender\")\n",
    "sns.despine(trim=True)\n",
    "plt.show()"
   ]
  },
  {
   "cell_type": "code",
   "execution_count": 64,
   "metadata": {},
   "outputs": [
    {
     "data": {
      "image/png": "[encoded data removed]",
      "text/plain": [
       "<Figure size 1080x720 with 1 Axes>"
      ]
     },
     "metadata": {},
     "output_type": "display_data"
    }
   ],
   "source": [
    "df_agesort = df.groupby(['age']).mean()\n",
    "temp = df['age'].sort_values(ascending=True).unique()\n",
    "df_agesort['age'] = temp\n",
    "\n",
    "plt.figure(figsize=(15,10))\n",
    "sns.barplot(x=df_agesort['age'], y=df_agesort['purch_amt'])\n",
    "plt.xticks(rotation=45)\n",
    "plt.xlabel('Age')\n",
    "plt.ylabel('Average Purchase Amount')\n",
    "plt.title('Plot 3: Purchase Amount over Ages')\n",
    "plt.show()"
   ]
  },
  {
   "cell_type": "markdown",
   "metadata": {},
   "source": [
    "## A/B test 1:     Does card_on_file make significant difference in customers' purchase amount    "
   ]
  },
  {
   "cell_type": "code",
   "execution_count": null,
   "metadata": {},
   "outputs": [],
   "source": [
    "plt.figure(figsize=(15,10))\n",
    "graph = sns.lmplot(x='age', y='purch_amt', data=df_customer, fit_reg=False, scatter_kws={'alpha':0.4})\n",
    "graph.set_xlabels('age')\n",
    "graph.set_ylabels('purchase amount')\n",
    "plt.title('Plot 1: scatter Plot of Purchase Amount vs. Age')\n",
    "plt.show()"
   ]
  },
  {
   "cell_type": "code",
   "execution_count": null,
   "metadata": {},
   "outputs": [],
   "source": []
  },
  {
   "cell_type": "code",
   "execution_count": null,
   "metadata": {},
   "outputs": [],
   "source": []
  },
  {
   "cell_type": "code",
   "execution_count": null,
   "metadata": {},
   "outputs": [],
   "source": []
  },
  {
   "cell_type": "code",
   "execution_count": null,
   "metadata": {},
   "outputs": [],
   "source": [
    "plt.figure(figsize=(15,10))\n",
    "sns.set(style=\"ticks\")\n",
    "graph = sns.FacetGrid(df_customer, row=\"loyalty\", col=\"card_on_file\")\n",
    "graph.map(plt.hist, \"purch_amt\", color=\"steelblue\")\n",
    "plt.subplots_adjust(top=0.9)\n",
    "graph.set_axis_labels(\"Purchase Amount in Dollar\")\n",
    "plt.suptitle(\"Plot 2: Purchase By loyalty and Card\")\n",
    "sns.despine(trim=True)\n",
    "plt.show()"
   ]
  },
  {
   "cell_type": "code",
   "execution_count": null,
   "metadata": {},
   "outputs": [],
   "source": []
  },
  {
   "cell_type": "code",
   "execution_count": null,
   "metadata": {},
   "outputs": [],
   "source": []
  },
  {
   "cell_type": "markdown",
   "metadata": {},
   "source": [
    "\n",
    "\n"
   ]
  },
  {
   "cell_type": "code",
   "execution_count": null,
   "metadata": {},
   "outputs": [],
   "source": []
  },
  {
   "cell_type": "code",
   "execution_count": null,
   "metadata": {},
   "outputs": [],
   "source": []
  },
  {
   "cell_type": "markdown",
   "metadata": {},
   "source": [
    "Choose one variable and plot that variable four different ways. \n",
    "1) histogram plots\n",
    "2) histogram plots by gender and loyalty\n",
    "3) barplot \n",
    "4) pointplot\n"
   ]
  },
  {
   "cell_type": "code",
   "execution_count": null,
   "metadata": {},
   "outputs": [],
   "source": [
    "maleamt = df_customer.loc[(df_customer['gender']=='male'), 'purch_amt']\n",
    "femaleamt = df_customer.loc[(df_customer['gender']=='female'), 'purch_amt']\n",
    "                         \n",
    "plt.figure(figsize=(15,10))\n",
    "plt.hist(maleamt, bins=100, color='green', label='male')\n",
    "plt.legend(loc='upper right')\n",
    "plt.hist(femaleamt, bins=100, color='red', label='female')\n",
    "plt.legend(loc=\"upper right\")\n",
    "plt.xlabel('Purchase Amount in Dollar')\n",
    "plt.ylabel('Frequency')\n",
    "plt.title('Plot 1: Purchase Amount Distribution')"
   ]
  },
  {
   "cell_type": "code",
   "execution_count": null,
   "metadata": {},
   "outputs": [],
   "source": []
  },
  {
   "cell_type": "code",
   "execution_count": null,
   "metadata": {},
   "outputs": [],
   "source": []
  },
  {
   "cell_type": "code",
   "execution_count": null,
   "metadata": {},
   "outputs": [],
   "source": [
    "axe = sns.boxplot(x='gender', y='purch_amt', hue='card_on_file', data=df_customer)\n",
    "plt.title(\"Plot 4: Purchase by Gender and Card_On_file\")\n",
    "sns.despine(offset=10, trim=True)\n",
    "axe.set(xlabel='', ylabel='purchase amount')\n",
    "plt.show()"
   ]
  },
  {
   "cell_type": "markdown",
   "metadata": {},
   "source": [
    "## Choose two continuous variables, and plot them three different ways. 1_ scatter plot 2) barplot 3) poitplot"
   ]
  },
  {
   "cell_type": "code",
   "execution_count": null,
   "metadata": {},
   "outputs": [],
   "source": []
  },
  {
   "cell_type": "code",
   "execution_count": null,
   "metadata": {},
   "outputs": [],
   "source": [
    "plt.figure(figsize=(15,10))\n",
    "sns.set(style=\"darkgrid\")\n",
    "graph = sns.catplot(x='age', y='purch_amt', data=df_customer,\n",
    "                        height=6, kind='bar', palette='pastel', ci=95)\n",
    "graph.despine()\n",
    "graph.set_xlabels(\"age\")\n",
    "graph.set_ylabels(\"purchase_amount\")\n",
    "plt.title(\"Plot 2: barplot of Purchase Amount vs. Age\")\n",
    "plt.show()"
   ]
  },
  {
   "cell_type": "code",
   "execution_count": null,
   "metadata": {},
   "outputs": [],
   "source": [
    "sns.set(style='whitegrid')\n",
    "graph = sns.catplot(x='age', y='purch_amt', hue='card_on_file', data=df_customer,\n",
    "                   height=8, kind='point', palette='pastel', ci=95, dodge=True, join=False)\n",
    "graph.despine(left=True)\n",
    "graph.set_xlabels('age')\n",
    "graph.set_ylabels('purchase amount')\n",
    "plt.title(\"Plot 3: pointplot of Purchase Amount vs. Age\")\n",
    "plt.show()"
   ]
  },
  {
   "cell_type": "markdown",
   "metadata": {},
   "source": [
    "Choose one continuous variable and one categorical variable, and plot them six different ways."
   ]
  },
  {
   "cell_type": "code",
   "execution_count": null,
   "metadata": {},
   "outputs": [],
   "source": []
  },
  {
   "cell_type": "code",
   "execution_count": null,
   "metadata": {},
   "outputs": [],
   "source": [
    "plt.figure(figsize=(15,10))\n",
    "sns.set(style=\"darkgrid\")\n",
    "graph = sns.catplot(x='gender', y='purch_amt', hue='card_on_file', data=df_customer,\n",
    "                        height=6, kind='bar', palette='pastel', ci=95)\n",
    "graph.despine()\n",
    "graph.set_xlabels(\"gender\")\n",
    "graph.set_ylabels(\"purchase_amount\")\n",
    "plt.title(\"Plot 2: barplot of Purchase Amount vs. Gender\")\n",
    "plt.show()"
   ]
  },
  {
   "cell_type": "code",
   "execution_count": null,
   "metadata": {},
   "outputs": [],
   "source": [
    "plt.figure(figsize=(15,10))\n",
    "sns.set(style=\"darkgrid\")\n",
    "graph = sns.catplot(x='gender', y='purch_amt', hue='card_on_file', data=df_customer,\n",
    "                        height=6, kind='point', palette='pastel', ci=95,dodge=True,join=False)\n",
    "graph.despine()\n",
    "graph.set_xlabels(\"gender\")\n",
    "graph.set_ylabels(\"purchase_amount\")\n",
    "plt.title(\"Plot 3: pointplot of Purchase Amount vs. Gender\")\n",
    "plt.show()"
   ]
  },
  {
   "cell_type": "code",
   "execution_count": null,
   "metadata": {},
   "outputs": [],
   "source": [
    "axe = sns.boxplot(x='gender', y='purch_amt', hue='card_on_file', data=df_customer)\n",
    "plt.title(\"Plot 4: Purchase by Gender and Card_On_file\")\n",
    "sns.despine(offset=10, trim=True)\n",
    "axe.set(xlabel='', ylabel='purchase amount')\n",
    "plt.show()"
   ]
  },
  {
   "cell_type": "code",
   "execution_count": null,
   "metadata": {},
   "outputs": [],
   "source": [
    "df_agesort = df_customer.loc[df_customer['age']>0].groupby(['age']).mean()\n",
    "temp = (df_customer.loc[(df_customer['age']>0), 'age'].sort_values(ascending=True).unique())\n",
    "df_agesort['age'] = temp\n",
    "\n",
    "plt.figure(figsize=(15,10))\n",
    "graph = sns.lmplot(x='age', y='purch_amt', data=df_agesort, fit_reg=False, scatter_kws={'alpha':0.4})\n",
    "plt.xticks(rotation=45)\n",
    "graph.set_xlabels('Age')\n",
    "graph.set_ylabels('Average Purchase Amount')\n",
    "plt.title('Plot 5: scatter plot of Purchase Amount over Ages')\n",
    "plt.show()"
   ]
  },
  {
   "cell_type": "code",
   "execution_count": null,
   "metadata": {},
   "outputs": [],
   "source": [
    "plt.figure(figsize=(15,10))\n",
    "graph = sns.lmplot(x='age', y='purch_amt', data=df_agesort, fit_reg=True, scatter_kws={'alpha':0.4})\n",
    "plt.xticks(rotation=45)\n",
    "graph.set_xlabels('Age')\n",
    "graph.set_ylabels('Average Purchase Amount')\n",
    "plt.title('Plot 6: scatter plot of Purchase Amount over Ages')\n",
    "plt.show()"
   ]
  },
  {
   "cell_type": "code",
   "execution_count": null,
   "metadata": {},
   "outputs": [],
   "source": []
  }
 ],
 "metadata": {
  "kernelspec": {
   "display_name": "Python 3",
   "language": "python",
   "name": "python3"
  },
  "language_info": {
   "codemirror_mode": {
    "name": "ipython",
    "version": 3
   },
   "file_extension": ".py",
   "mimetype": "text/x-python",
   "name": "python",
   "nbconvert_exporter": "python",
   "pygments_lexer": "ipython3",
   "version": "3.6.7"
  }
 },
 "nbformat": 4,
 "nbformat_minor": 2
}
