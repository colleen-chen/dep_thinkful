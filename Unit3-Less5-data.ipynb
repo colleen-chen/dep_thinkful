{
 "cells": [
  {
   "cell_type": "code",
   "execution_count": 77,
   "metadata": {},
   "outputs": [],
   "source": [
    "import numpy as np\n",
    "import pandas as pd\n",
    "import statistics as stat"
   ]
  },
  {
   "cell_type": "code",
   "execution_count": 78,
   "metadata": {},
   "outputs": [],
   "source": [
    "df = pd.DataFrame()"
   ]
  },
  {
   "cell_type": "code",
   "execution_count": 79,
   "metadata": {},
   "outputs": [],
   "source": [
    "df['name'] = ['Greg', 'Marcia', 'Peter', 'Jan', 'Bobby', 'Cindy', 'Oliver']\n",
    "df['age'] = [14, 12, 11, 10, 8, 6, 8]"
   ]
  },
  {
   "cell_type": "code",
   "execution_count": 80,
   "metadata": {},
   "outputs": [],
   "source": [
    "age_mean = np.mean(df['age'])\n",
    "age_median = np.median(df['age'])\n",
    "age_mode = stat.mode(df['age'])"
   ]
  },
  {
   "cell_type": "code",
   "execution_count": 81,
   "metadata": {},
   "outputs": [
    {
     "name": "stdout",
     "output_type": "stream",
     "text": [
      "The mean of kids ages is 9.857142857142858\n",
      "The median of kids ages is 10.0\n",
      "The mode of kids ages is 8\n"
     ]
    }
   ],
   "source": [
    "print('The mean of kids ages is {}'.format(age_mean))\n",
    "print('The median of kids ages is {}'.format(age_median))\n",
    "print('The mode of kids ages is {}'.format(age_mode))"
   ]
  },
  {
   "cell_type": "code",
   "execution_count": 82,
   "metadata": {},
   "outputs": [],
   "source": [
    "age_var = np.var(df['age'])\n",
    "age_std = np.std(df['age'], ddof=1)\n",
    "age_error_mean = age_std / ((len(df['age']))**0.5) "
   ]
  },
  {
   "cell_type": "code",
   "execution_count": 83,
   "metadata": {},
   "outputs": [
    {
     "name": "stdout",
     "output_type": "stream",
     "text": [
      "The variance of kids ages is 6.408163265306122\n",
      "The standard deviation of kids ages is 2.734262327610589\n",
      "The error of kids ages is 1.0334540197243192\n"
     ]
    }
   ],
   "source": [
    "print('The variance of kids ages is {}'.format(age_var))\n",
    "print('The standard deviation of kids ages is {}'.format(age_std))\n",
    "print('The error of kids ages is {}'.format(age_error_mean))"
   ]
  },
  {
   "cell_type": "markdown",
   "metadata": {},
   "source": [
    "## 2. Choose one central tendency & one variance\n",
    "\n",
    "    I will choose mean as estimated central tendency,      age_mean = 9.857\n",
    "    The variance will be as the variance calculated above,  age_variance = 6.408\n",
    "    \n",
    "    The reason is that the data set is kind distributed around 9.8 and has no big low_end \n",
    "    or high_end tails.\n"
   ]
  },
  {
   "cell_type": "markdown",
   "metadata": {},
   "source": [
    "## 3. after Cindy has a birthday"
   ]
  },
  {
   "cell_type": "code",
   "execution_count": 101,
   "metadata": {},
   "outputs": [],
   "source": [
    "df.loc[df[df.name == 'Cindy'].index, 'age'] += 1"
   ]
  },
  {
   "cell_type": "code",
   "execution_count": 102,
   "metadata": {},
   "outputs": [],
   "source": [
    "age_mean = np.mean(df['age'])\n",
    "age_median = np.median(df['age'])\n",
    "age_mode = stat.mode(df['age'])"
   ]
  },
  {
   "cell_type": "code",
   "execution_count": 103,
   "metadata": {},
   "outputs": [
    {
     "name": "stdout",
     "output_type": "stream",
     "text": [
      "The mean of kids ages is 9.142857142857142\n",
      "The median of kids ages is 10.0\n",
      "The mode of kids ages is 8\n"
     ]
    }
   ],
   "source": [
    "print('The mean of kids ages is {}'.format(age_mean))\n",
    "print('The median of kids ages is {}'.format(age_median))\n",
    "print('The mode of kids ages is {}'.format(age_mode))"
   ]
  },
  {
   "cell_type": "code",
   "execution_count": 104,
   "metadata": {},
   "outputs": [],
   "source": [
    "age_var = np.var(df['age'])\n",
    "age_std = np.std(df['age'], ddof=1)\n",
    "age_error_mean = age_std / ((len(df['age']))**0.5)"
   ]
  },
  {
   "cell_type": "code",
   "execution_count": 105,
   "metadata": {},
   "outputs": [
    {
     "name": "stdout",
     "output_type": "stream",
     "text": [
      "The variance of kids ages is 14.979591836734695\n",
      "The standard deviation of kids ages is 4.180453381654971\n",
      "The error of kids ages is 1.5800628593368629\n"
     ]
    }
   ],
   "source": [
    "print('The variance of kids ages is {}'.format(age_var))\n",
    "print('The standard deviation of kids ages is {}'.format(age_std))\n",
    "print('The error of kids ages is {}'.format(age_error_mean))"
   ]
  },
  {
   "cell_type": "markdown",
   "metadata": {},
   "source": [
    "# What have not changed are  median,mode\n",
    "# \n",
    "# What have changed are  mean, variance, Std, error on mean"
   ]
  },
  {
   "cell_type": "markdown",
   "metadata": {},
   "source": [
    "## 4. After replace Oliver by Jessica"
   ]
  },
  {
   "cell_type": "code",
   "execution_count": 106,
   "metadata": {},
   "outputs": [],
   "source": [
    "df.loc[df[df.name == 'Oliver'].index, 'name'] = 'Jessica'\n",
    "df.loc[df[df.name == 'Jessica'].index, 'age'] = 1"
   ]
  },
  {
   "cell_type": "code",
   "execution_count": 107,
   "metadata": {},
   "outputs": [
    {
     "data": {
      "text/html": [
       "<div>\n",
       "<style scoped>\n",
       "    .dataframe tbody tr th:only-of-type {\n",
       "        vertical-align: middle;\n",
       "    }\n",
       "\n",
       "    .dataframe tbody tr th {\n",
       "        vertical-align: top;\n",
       "    }\n",
       "\n",
       "    .dataframe thead th {\n",
       "        text-align: right;\n",
       "    }\n",
       "</style>\n",
       "<table border=\"1\" class=\"dataframe\">\n",
       "  <thead>\n",
       "    <tr style=\"text-align: right;\">\n",
       "      <th></th>\n",
       "      <th>name</th>\n",
       "      <th>age</th>\n",
       "    </tr>\n",
       "  </thead>\n",
       "  <tbody>\n",
       "    <tr>\n",
       "      <th>0</th>\n",
       "      <td>Greg</td>\n",
       "      <td>14</td>\n",
       "    </tr>\n",
       "    <tr>\n",
       "      <th>1</th>\n",
       "      <td>Marcia</td>\n",
       "      <td>12</td>\n",
       "    </tr>\n",
       "    <tr>\n",
       "      <th>2</th>\n",
       "      <td>Peter</td>\n",
       "      <td>11</td>\n",
       "    </tr>\n",
       "    <tr>\n",
       "      <th>3</th>\n",
       "      <td>Jan</td>\n",
       "      <td>10</td>\n",
       "    </tr>\n",
       "    <tr>\n",
       "      <th>4</th>\n",
       "      <td>Bobby</td>\n",
       "      <td>8</td>\n",
       "    </tr>\n",
       "    <tr>\n",
       "      <th>5</th>\n",
       "      <td>Cindy</td>\n",
       "      <td>8</td>\n",
       "    </tr>\n",
       "    <tr>\n",
       "      <th>6</th>\n",
       "      <td>Jessica</td>\n",
       "      <td>1</td>\n",
       "    </tr>\n",
       "  </tbody>\n",
       "</table>\n",
       "</div>"
      ],
      "text/plain": [
       "      name  age\n",
       "0     Greg   14\n",
       "1   Marcia   12\n",
       "2    Peter   11\n",
       "3      Jan   10\n",
       "4    Bobby    8\n",
       "5    Cindy    8\n",
       "6  Jessica    1"
      ]
     },
     "execution_count": 107,
     "metadata": {},
     "output_type": "execute_result"
    }
   ],
   "source": [
    "df.head(10)"
   ]
  },
  {
   "cell_type": "code",
   "execution_count": 108,
   "metadata": {},
   "outputs": [],
   "source": [
    "age_mean = np.mean(df['age'])\n",
    "age_median = np.median(df['age'])\n",
    "#age_mode = stat.mode(df['age'])"
   ]
  },
  {
   "cell_type": "markdown",
   "metadata": {},
   "source": [
    "## calculate multiple modes"
   ]
  },
  {
   "cell_type": "code",
   "execution_count": 109,
   "metadata": {},
   "outputs": [],
   "source": [
    "(values, counts) = np.unique(df['age'], return_counts=True)\n",
    "if len(counts) == len(df['age']):\n",
    "    age_mode = age_median\n"
   ]
  },
  {
   "cell_type": "code",
   "execution_count": 110,
   "metadata": {},
   "outputs": [
    {
     "name": "stdout",
     "output_type": "stream",
     "text": [
      "The mean of kids ages is 9.142857142857142\n",
      "The median of kids ages is 10.0\n",
      "The mode of kids ages is 8\n"
     ]
    }
   ],
   "source": [
    "print('The mean of kids ages is {}'.format(age_mean))\n",
    "print('The median of kids ages is {}'.format(age_median))\n",
    "print('The mode of kids ages is {}'.format(age_mode))"
   ]
  },
  {
   "cell_type": "code",
   "execution_count": 111,
   "metadata": {},
   "outputs": [],
   "source": [
    "age_var = np.var(df['age'])\n",
    "age_std = np.std(df['age'], ddof=1)\n",
    "age_error_mean = age_std / ((len(df['age']))**0.5)"
   ]
  },
  {
   "cell_type": "code",
   "execution_count": 112,
   "metadata": {},
   "outputs": [
    {
     "name": "stdout",
     "output_type": "stream",
     "text": [
      "The variance of kids ages is 14.979591836734695\n",
      "The standard deviation of kids ages is 4.180453381654971\n",
      "The error of kids ages is 1.5800628593368629\n"
     ]
    }
   ],
   "source": [
    "print('The variance of kids ages is {}'.format(age_var))\n",
    "print('The standard deviation of kids ages is {}'.format(age_std))\n",
    "print('The error of kids ages is {}'.format(age_error_mean))"
   ]
  },
  {
   "cell_type": "markdown",
   "metadata": {},
   "source": [
    "## 5. Magazine survey"
   ]
  },
  {
   "cell_type": "code",
   "execution_count": 113,
   "metadata": {},
   "outputs": [],
   "source": [
    "df_fans = pd.DataFrame()\n",
    "df_fans['survey'] = ['TV Guide', 'Entertainment Weekly', 'Pop Culture Today', 'SciPhi Phanatic']\n",
    "df_fans['percentage'] = [20, 23, 17, 5]"
   ]
  },
  {
   "cell_type": "code",
   "execution_count": 114,
   "metadata": {},
   "outputs": [
    {
     "data": {
      "text/html": [
       "<div>\n",
       "<style scoped>\n",
       "    .dataframe tbody tr th:only-of-type {\n",
       "        vertical-align: middle;\n",
       "    }\n",
       "\n",
       "    .dataframe tbody tr th {\n",
       "        vertical-align: top;\n",
       "    }\n",
       "\n",
       "    .dataframe thead th {\n",
       "        text-align: right;\n",
       "    }\n",
       "</style>\n",
       "<table border=\"1\" class=\"dataframe\">\n",
       "  <thead>\n",
       "    <tr style=\"text-align: right;\">\n",
       "      <th></th>\n",
       "      <th>survey</th>\n",
       "      <th>percentage</th>\n",
       "    </tr>\n",
       "  </thead>\n",
       "  <tbody>\n",
       "    <tr>\n",
       "      <th>0</th>\n",
       "      <td>TV Guide</td>\n",
       "      <td>20</td>\n",
       "    </tr>\n",
       "    <tr>\n",
       "      <th>1</th>\n",
       "      <td>Entertainment Weekly</td>\n",
       "      <td>23</td>\n",
       "    </tr>\n",
       "    <tr>\n",
       "      <th>2</th>\n",
       "      <td>Pop Culture Today</td>\n",
       "      <td>17</td>\n",
       "    </tr>\n",
       "    <tr>\n",
       "      <th>3</th>\n",
       "      <td>SciPhi Phanatic</td>\n",
       "      <td>5</td>\n",
       "    </tr>\n",
       "  </tbody>\n",
       "</table>\n",
       "</div>"
      ],
      "text/plain": [
       "                 survey  percentage\n",
       "0              TV Guide          20\n",
       "1  Entertainment Weekly          23\n",
       "2     Pop Culture Today          17\n",
       "3       SciPhi Phanatic           5"
      ]
     },
     "execution_count": 114,
     "metadata": {},
     "output_type": "execute_result"
    }
   ],
   "source": [
    "df_fans.head()"
   ]
  },
  {
   "cell_type": "code",
   "execution_count": 115,
   "metadata": {},
   "outputs": [
    {
     "name": "stdout",
     "output_type": "stream",
     "text": [
      "16.25\n"
     ]
    }
   ],
   "source": [
    "aver = np.mean(df_fans['percentage'])\n",
    "print(aver)"
   ]
  },
  {
   "cell_type": "code",
   "execution_count": 116,
   "metadata": {},
   "outputs": [
    {
     "name": "stdout",
     "output_type": "stream",
     "text": [
      "16.25% of adults were fans\n"
     ]
    }
   ],
   "source": [
    "print('16.25% of adults were fans')"
   ]
  },
  {
   "cell_type": "code",
   "execution_count": null,
   "metadata": {},
   "outputs": [],
   "source": []
  }
 ],
 "metadata": {
  "kernelspec": {
   "display_name": "Python 3",
   "language": "python",
   "name": "python3"
  },
  "language_info": {
   "codemirror_mode": {
    "name": "ipython",
    "version": 3
   },
   "file_extension": ".py",
   "mimetype": "text/x-python",
   "name": "python",
   "nbconvert_exporter": "python",
   "pygments_lexer": "ipython3",
   "version": "3.6.7"
  }
 },
 "nbformat": 4,
 "nbformat_minor": 2
}
