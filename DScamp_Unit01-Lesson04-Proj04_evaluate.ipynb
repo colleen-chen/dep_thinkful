{
 "cells": [
  {
   "cell_type": "markdown",
   "metadata": {},
   "source": [
    "## Evaluate an experiment analysis\n"
   ]
  },
  {
   "cell_type": "markdown",
   "metadata": {},
   "source": [
    "1) Bias:   \n",
    "        The different people delivering slogan can cause bias in results. Emperor \n",
    "        and Darth Vader are different.\n",
    "\n",
    "   To fix it:   let the same person to deliver the slogan\n",
    "   \n",
    ">>>"
   ]
  },
  {
   "cell_type": "markdown",
   "metadata": {},
   "source": [
    "2) Fault:    It is Simpson paradox.  The average over number of groups showing trend different \n",
    "                     from trends of individual group\n",
    "\n",
    "   To fix:    Present results of both aggregate average and four individual planet.\n",
    "   \n",
    "   \n",
    ">>>\n"
   ]
  },
  {
   "cell_type": "markdown",
   "metadata": {},
   "source": [
    "3) Fault:  It is Simpson paradox. \n",
    "\n",
    "   To fix:    \n",
    "           present job report for HR, IT and individual SEPARATELY\n",
    "\n",
    "\n",
    ">>>"
   ]
  },
  {
   "cell_type": "markdown",
   "metadata": {},
   "source": [
    "4) Fault:   Data samples are biased, because people with high activity more tend to download the App.\n",
    "\n",
    "   To fix:    Selecting two samples, one consists of people without app, the other consists of \n",
    "              the same people as control sample in which some of them download app, some of them \n",
    "              don't download app. The measure the activity levels of two groups. \n",
    "\n",
    "\n",
    ">>>"
   ]
  },
  {
   "cell_type": "markdown",
   "metadata": {},
   "source": [
    "5) Fault:    People arrive earlier or arrive last tend to do poorer.\n",
    "\n",
    "   To fix:\n",
    "      teacher should stack mixed, and sequentially, like ABC ABC ABC   ....\n",
    "      \n",
    "      \n",
    "      \n",
    ">>>"
   ]
  },
  {
   "cell_type": "code",
   "execution_count": null,
   "metadata": {},
   "outputs": [],
   "source": []
  }
 ],
 "metadata": {
  "kernelspec": {
   "display_name": "Python 3",
   "language": "python",
   "name": "python3"
  },
  "language_info": {
   "codemirror_mode": {
    "name": "ipython",
    "version": 3
   },
   "file_extension": ".py",
   "mimetype": "text/x-python",
   "name": "python",
   "nbconvert_exporter": "python",
   "pygments_lexer": "ipython3",
   "version": "3.6.7"
  }
 },
 "nbformat": 4,
 "nbformat_minor": 2
}
