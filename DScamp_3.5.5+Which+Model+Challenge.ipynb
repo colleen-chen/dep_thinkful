{
 "cells": [
  {
   "cell_type": "markdown",
   "metadata": {},
   "source": [
    "## 1) Predict the running times of prospective Olympic sprinters \n",
    "##       using data from the last 20 Olympics.\n",
    "\n",
    "\n",
    "solution:         use Regression model\n",
    "\n"
   ]
  },
  {
   "cell_type": "markdown",
   "metadata": {},
   "source": [
    "##  2) You have more features (columns) than rows in your dataset.\n",
    "\n",
    "\n",
    "solution:         use Support Vector Machine (SVM), either SVC classifier, or SVR regressor\n",
    "\n",
    "\n"
   ]
  },
  {
   "cell_type": "markdown",
   "metadata": {},
   "source": [
    "## 3) Identify the most important characteristic predicting likelihood of being jailed \n",
    "##        before age 20.\n",
    "\n",
    "\n",
    "solution:         use SVC (Support Vector Classifier)\n",
    "\n"
   ]
  },
  {
   "cell_type": "markdown",
   "metadata": {},
   "source": [
    "## 4) Implement a filter to “highlight” emails that might be important to the recipient\n",
    "\n",
    "\n",
    "solution:         use Naive Bayes\n",
    "\n"
   ]
  },
  {
   "cell_type": "markdown",
   "metadata": {},
   "source": [
    "## 5) You have 1000+ features.\n",
    "\n",
    "\n",
    "solution:         use ensemble boosting model \n",
    "\n"
   ]
  },
  {
   "cell_type": "markdown",
   "metadata": {},
   "source": [
    "## 6) Predict whether someone who adds items to their cart on a website will \n",
    "##        purchase the items.\n",
    "\n",
    "\n",
    "solution:         use Random Forest or Ensemble Boosting Model\n",
    "\n"
   ]
  },
  {
   "cell_type": "markdown",
   "metadata": {},
   "source": [
    "## 7) Your dataset dimensions are 982400 x 500\n",
    "\n",
    "\n",
    "solution:          use Random Forest\n",
    "\n"
   ]
  },
  {
   "cell_type": "markdown",
   "metadata": {},
   "source": [
    "## 8) Identify faces in an image.\n",
    "\n",
    "\n",
    "solution:          use KNN \n",
    "\n"
   ]
  },
  {
   "cell_type": "markdown",
   "metadata": {},
   "source": [
    "## 9) Predict which of three flavors of ice cream will be most popular with boys vs girls.\n",
    "\n",
    "\n",
    "solution:           use Random Forest\n",
    "\n"
   ]
  },
  {
   "cell_type": "code",
   "execution_count": null,
   "metadata": {},
   "outputs": [],
   "source": []
  }
 ],
 "metadata": {
  "kernelspec": {
   "display_name": "Python 3",
   "language": "python",
   "name": "python3"
  },
  "language_info": {
   "codemirror_mode": {
    "name": "ipython",
    "version": 3
   },
   "file_extension": ".py",
   "mimetype": "text/x-python",
   "name": "python",
   "nbconvert_exporter": "python",
   "pygments_lexer": "ipython3",
   "version": "3.6.7"
  }
 },
 "nbformat": 4,
 "nbformat_minor": 2
}
